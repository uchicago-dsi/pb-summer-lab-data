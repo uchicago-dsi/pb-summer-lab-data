{
 "cells": [
  {
   "cell_type": "code",
   "execution_count": null,
   "id": "ba6ae5ba-9e7f-414a-bb83-ea40891780c8",
   "metadata": {
    "tags": []
   },
   "outputs": [],
   "source": [
    "import pandas as pd\n",
    "import geopandas as gpd\n",
    "import matplotlib.pyplot as plt\n",
    "import numpy as np\n",
    "import folium\n",
    "import seaborn as sns\n",
    "import plotly.express as px\n",
    "import pyarrow.parquet as pq\n",
    "import matplotlib.patches as mpatches"
   ]
  },
  {
   "cell_type": "code",
   "execution_count": null,
   "id": "c845e3b3-3b5e-4153-9043-94437c6da184",
   "metadata": {},
   "outputs": [],
   "source": [
    "tracts = gpd.read_file(\"../data/ILCensusTracts.zip\")\n",
    "tracts"
   ]
  },
  {
   "cell_type": "code",
   "execution_count": null,
   "id": "12d5f5b1-ef1c-49c3-9373-5b5689b5f990",
   "metadata": {
    "tags": []
   },
   "outputs": [],
   "source": [
    "vision_providers_minimal = pq.read_table(source='../data/vision_providers_minimal.parquet').to_pandas()\n",
    "vision_providers_minimal"
   ]
  },
  {
   "cell_type": "code",
   "execution_count": null,
   "id": "1e5163ac-399a-44ce-8337-b5462f955eee",
   "metadata": {
    "tags": []
   },
   "outputs": [],
   "source": [
    "tracts_IL = tracts[tracts['STATEFP'] == '17'].reset_index()\n",
    "tracts_IL = tracts_IL.drop('index', axis = 1)\n",
    "tracts_IL"
   ]
  },
  {
   "cell_type": "code",
   "execution_count": null,
   "id": "0c12a7a8-0641-45a3-b2c9-0c43fe3b84b2",
   "metadata": {
    "tags": []
   },
   "outputs": [],
   "source": [
    "vision_providers_minimal = vision_providers_minimal[vision_providers_minimal[\"Entity Type Code\"] == 1].reset_index(drop=True)\n",
    "vision_providers_illinois = vision_providers_minimal[vision_providers_minimal[\"Provider Business Mailing Address State Name\"] == \"IL\"].reset_index(drop=True)\n",
    "vision_providers_illinois"
   ]
  },
  {
   "cell_type": "code",
   "execution_count": null,
   "id": "abca8c03-e154-41d2-86f6-1218194a212e",
   "metadata": {
    "tags": []
   },
   "outputs": [],
   "source": [
    "vision_providers_illinois = gpd.GeoDataFrame(vision_providers_illinois, geometry=gpd.points_from_xy(vision_providers_illinois.Longitude, vision_providers_illinois.Latitude), crs=\"EPSG:4326\")\n",
    "vision_providers_illinois"
   ]
  },
  {
   "cell_type": "code",
   "execution_count": null,
   "id": "cfbee2cd-4d92-44fd-b887-4c5b94b66ac8",
   "metadata": {},
   "outputs": [],
   "source": [
    "tracts_IL = tracts_IL.to_crs(vision_providers_illinois.crs)\n",
    "\n",
    "joined = gpd.sjoin(vision_providers_illinois, tracts_IL, predicate='within')\n",
    "joined"
   ]
  },
  {
   "cell_type": "code",
   "execution_count": null,
   "id": "48020e2f-7696-4506-b101-154c885b36ca",
   "metadata": {
    "tags": []
   },
   "outputs": [],
   "source": [
    "def classify_provider(taxonomy):\n",
    "    codes = taxonomy.split('|')\n",
    "    provider_types = set()  # using a set to avoid duplicates\n",
    "    for code in codes:\n",
    "        if code.startswith('152'):\n",
    "            provider_types.add('Optometry')\n",
    "        if code.startswith('207'):\n",
    "            provider_types.add('Ophthalmology')\n",
    "        if code.startswith('156'):\n",
    "            provider_types.add('Other')\n",
    "    # generating all combinations\n",
    "    types_list = list(provider_types)\n",
    "    if len(types_list) == 2:\n",
    "        return ', '.join(sorted(types_list))\n",
    "    elif types_list:\n",
    "        return types_list[0]\n",
    "    return 'Unknown'\n",
    "\n",
    "joined['Provider Type'] = joined['Taxonomy'].apply(classify_provider)\n",
    "\n",
    "joined"
   ]
  },
  {
   "cell_type": "code",
   "execution_count": null,
   "id": "a7129802-44b9-4ce0-adb5-25b169481f5f",
   "metadata": {
    "tags": []
   },
   "outputs": [],
   "source": [
    "#joined.to_csv('IL_tracts_scatter.csv', index=False)\n"
   ]
  },
  {
   "cell_type": "code",
   "execution_count": null,
   "id": "4e59a0a0-b45e-4540-9d1a-d30e215fa9d9",
   "metadata": {
    "tags": []
   },
   "outputs": [],
   "source": [
    "joined['Optometry'] = joined['Taxonomy'].apply(lambda x: any(code.startswith('152') for code in x.split('|')))\n",
    "joined['Ophthalmology'] = joined['Taxonomy'].apply(lambda x: any(code.startswith('207') for code in x.split('|')))\n",
    "joined['Others'] = joined['Taxonomy'].apply(lambda x: any(code.startswith('156') for code in x.split('|')))\n",
    "\n",
    "joined"
   ]
  },
  {
   "cell_type": "code",
   "execution_count": null,
   "id": "a836b9b8-78d1-4e72-a982-4c3dab681636",
   "metadata": {
    "tags": []
   },
   "outputs": [],
   "source": [
    "grouped = joined.groupby('GEOID')[['Optometry', 'Ophthalmology', 'Others']].sum().reset_index()\n",
    "grouped"
   ]
  },
  {
   "cell_type": "code",
   "execution_count": null,
   "id": "1afcba5b-16c6-43be-afe1-c055bca12d3a",
   "metadata": {
    "tags": []
   },
   "outputs": [],
   "source": [
    "grouped_geo = pd.merge(tracts_IL, grouped, how='left', left_on='GEOID', right_on='GEOID').reset_index(drop=True)\n",
    "grouped_geo['Total_Providers'] = grouped_geo['Optometry'] + grouped_geo['Ophthalmology'] + grouped_geo['Others']\n",
    "\n",
    "grouped_geo['Optometry'].fillna(0, inplace=True)\n",
    "grouped_geo['Ophthalmology'].fillna(0, inplace=True)\n",
    "grouped_geo['Others'].fillna(0, inplace=True)\n",
    "grouped_geo['Total_Providers'].fillna(0, inplace=True)\n",
    "\n",
    "grouped_geo = grouped_geo.astype({'Optometry': 'int', 'Ophthalmology': 'int', 'Others': 'int', 'Total_Providers': 'int'})\n",
    "\n",
    "grouped_geo"
   ]
  },
  {
   "cell_type": "code",
   "execution_count": null,
   "id": "47e3956b-fbf4-4c71-81ca-a379ab119ea3",
   "metadata": {
    "tags": []
   },
   "outputs": [],
   "source": [
    "#grouped_geo.to_csv('IL_tracts_v2.csv', index=False)"
   ]
  },
  {
   "cell_type": "code",
   "execution_count": null,
   "id": "d7247755-9ae1-4bd9-8a67-be585fa5135c",
   "metadata": {
    "tags": []
   },
   "outputs": [],
   "source": [
    "fig, ax = plt.subplots(figsize=(8, 8))\n",
    "\n",
    "tracts_IL.plot(color='lightgrey', ax=ax, edgecolor='grey')  \n",
    "\n",
    "grouped_geo.plot(column='Total_Providers', \n",
    "               cmap='Reds', \n",
    "               linewidth=0.8, \n",
    "               ax=ax, \n",
    "               edgecolor='0.8',\n",
    "               #scheme='quantiles',\n",
    "               legend=True,\n",
    "               missing_kwds={'color': 'lightgrey'})\n",
    "\n",
    "ax.set_xlabel('Longitude')\n",
    "ax.set_ylabel('Latitude')\n",
    "\n",
    "plt.title('Illinois: Providers by Tract')\n",
    "plt.show()"
   ]
  },
  {
   "cell_type": "code",
   "execution_count": null,
   "id": "d11c9cc3-cf9e-462d-b2d7-fad272902219",
   "metadata": {
    "tags": []
   },
   "outputs": [],
   "source": [
    "from libpysal import weights\n",
    "\n",
    "w = weights.Queen.from_dataframe(grouped_geo)\n",
    "\n",
    "# Standardize the weights matrix so that the weights of each location's neighbors sum to 1.\n",
    "w.transform = 'R'\n",
    "\n",
    "# Calculate the spatial lag of the Total Providers count.\n",
    "grouped_geo['lag_Total_Providers'] = weights.lag_spatial(w, grouped_geo['Total_Providers'])\n",
    "grouped_geo"
   ]
  },
  {
   "cell_type": "code",
   "execution_count": null,
   "id": "67c98cb4-dbd1-4892-8f23-926c437aa31d",
   "metadata": {
    "tags": []
   },
   "outputs": [],
   "source": [
    "fig, ax = plt.subplots(figsize=(10, 4))\n",
    "\n",
    "#tracts_OK.plot(color='lightgrey', ax=ax, edgecolor='grey')  \n",
    "\n",
    "grouped_geo.plot(column='lag_Total_Providers', \n",
    "               cmap='Reds', \n",
    "               linewidth=0.8, \n",
    "               ax=ax, \n",
    "               edgecolor='0.8',\n",
    "               #scheme='quantiles',\n",
    "               legend=True,\n",
    "               missing_kwds={'color': 'lightgrey'})\n",
    "\n",
    "ax.set_xlabel('Longitude')\n",
    "ax.set_ylabel('Latitude')\n",
    "\n",
    "plt.title('Illinois: Lag Providers by Tract')\n",
    "plt.show()"
   ]
  },
  {
   "cell_type": "code",
   "execution_count": null,
   "id": "43d53a96-06bd-4062-8e13-c0c64a2cfa0b",
   "metadata": {
    "tags": []
   },
   "outputs": [],
   "source": [
    "from pysal.explore import esda\n",
    "\n",
    "y = grouped_geo['Total_Providers']\n",
    "\n",
    "# Compute the spatial lag of your variable\n",
    "ylag = weights.lag_spatial(w, y)\n",
    "\n",
    "# Compute local Moran's I, which gives us our LISA statistics\n",
    "lisa = esda.Moran_Local(y, w)\n",
    "\n",
    "# Create a new column in your GeoDataFrame for the LISA values\n",
    "grouped_geo['lisa_values'] = lisa.Is\n",
    "\n",
    "# Plot the LISA values\n",
    "fig, ax = plt.subplots(figsize=(12,10))\n",
    "grouped_geo.plot(column='lisa_values', scheme='quantiles', cmap='Reds', legend=True, ax=ax)\n",
    "plt.show()\n"
   ]
  },
  {
   "cell_type": "code",
   "execution_count": null,
   "id": "2ccf41bd-37c6-4a22-9a26-c2a26e384c85",
   "metadata": {
    "tags": []
   },
   "outputs": [],
   "source": [
    "# Define the significance level, for example, 0.05\n",
    "alpha = 0.05\n",
    "\n",
    "# Create a binary variable indicating whether the p-value is less than alpha\n",
    "# These are your significant clusters\n",
    "grouped_geo['significant_clusters'] = lisa.p_sim < alpha\n",
    "\n",
    "# Plot the significant clusters\n",
    "fig, ax = plt.subplots(figsize=(12,10))\n",
    "grouped_geo.plot(column='significant_clusters', legend=True, ax=ax)\n",
    "plt.show()\n"
   ]
  },
  {
   "cell_type": "code",
   "execution_count": null,
   "id": "2f3d55a7-3d7b-4903-b93b-113ddac5ed95",
   "metadata": {
    "tags": []
   },
   "outputs": [],
   "source": [
    "# Create a variable for the type of spatial pattern\n",
    "grouped_geo['lisa_type'] = 'Not significant'\n",
    "grouped_geo.loc[(lisa.q==1) & (lisa.p_sim < alpha), 'lisa_type'] = 'High-High'\n",
    "grouped_geo.loc[(lisa.q==2) & (lisa.p_sim < alpha), 'lisa_type'] = 'Low-High'\n",
    "grouped_geo.loc[(lisa.q==3) & (lisa.p_sim < alpha), 'lisa_type'] = 'Low-Low'\n",
    "grouped_geo.loc[(lisa.q==4) & (lisa.p_sim < alpha), 'lisa_type'] = 'High-Low'\n",
    "grouped_geo"
   ]
  },
  {
   "cell_type": "code",
   "execution_count": null,
   "id": "f5b6e1ca-fd54-4e44-b565-e5786b0fd5ab",
   "metadata": {
    "tags": []
   },
   "outputs": [],
   "source": [
    "grouped_geo.to_csv('IL_tracts_clusters.csv', index=False)"
   ]
  },
  {
   "cell_type": "code",
   "execution_count": null,
   "id": "c8e94c76-a683-4178-b2d9-89e8c9525b31",
   "metadata": {
    "tags": []
   },
   "outputs": [],
   "source": [
    "'''fig, ax = plt.subplots(figsize=(12,10))\n",
    "grouped_geo.plot(column='lisa_type', legend=True, cmap = 'coolwarm', ax=ax)\n",
    "plt.show()\n",
    "'''\n",
    "\n",
    "grouped_geo['INTPTLAT'] = pd.to_numeric(grouped_geo['INTPTLAT'], errors='coerce')\n",
    "grouped_geo['INTPTLON'] = pd.to_numeric(grouped_geo['INTPTLON'], errors='coerce')\n",
    "\n",
    "fig = px.choropleth_mapbox(grouped_geo, \n",
    "                           geojson = grouped_geo.geometry, \n",
    "                           locations = grouped_geo.index, \n",
    "                           color = 'lisa_type',\n",
    "                           color_continuous_scale = \"coolwarm\",\n",
    "                           mapbox_style = \"carto-positron\",\n",
    "                           zoom = 5, \n",
    "                           center = {\"lat\": grouped_geo.INTPTLAT.mean(), \"lon\": grouped_geo.INTPTLON.mean()},\n",
    "                           opacity = 0.8,\n",
    "                           hover_data = [\"NAMELSAD\"],\n",
    "                           labels = {\"lisa_type\":'lisa type'}\n",
    "                          )\n",
    "\n",
    "fig.update_layout(margin = {\"r\":0,\"t\":0,\"l\":0,\"b\":0})\n",
    "\n",
    "fig.show()\n"
   ]
  },
  {
   "cell_type": "code",
   "execution_count": null,
   "id": "60635c00-2ddc-4b69-b929-9058477c8d8d",
   "metadata": {
    "tags": []
   },
   "outputs": [],
   "source": [
    "# Create a copy of the DataFrame first\n",
    "significant_grouped_geo = grouped_geo.copy()\n",
    "significant_grouped_geo = significant_grouped_geo[significant_grouped_geo['lisa_type'] != 'Not significant']\n",
    "\n",
    "# Then reset the index\n",
    "significant_grouped_geo.reset_index(drop = True, inplace=True)\n",
    "\n",
    "# Now you can safely make changes\n",
    "significant_grouped_geo['INTPTLAT'] = pd.to_numeric(significant_grouped_geo['INTPTLAT'], errors='coerce')\n",
    "significant_grouped_geo['INTPTLON'] = pd.to_numeric(significant_grouped_geo['INTPTLON'], errors='coerce')\n",
    "significant_grouped_geo"
   ]
  },
  {
   "cell_type": "code",
   "execution_count": null,
   "id": "5b84eb07-7fad-45c0-887c-8ac4c7661795",
   "metadata": {
    "tags": []
   },
   "outputs": [],
   "source": [
    "fig, ax = plt.subplots(figsize=(12,10))\n",
    "significant_grouped_geo.plot(column='lisa_type', legend=True, cmap = 'coolwarm', ax=ax)\n",
    "plt.show()"
   ]
  },
  {
   "cell_type": "code",
   "execution_count": null,
   "id": "4c730a30-1d3e-4a7c-b42c-0ea4f2d97840",
   "metadata": {
    "tags": []
   },
   "outputs": [],
   "source": [
    "fig = px.choropleth_mapbox(significant_grouped_geo, \n",
    "                           geojson = significant_grouped_geo.geometry, \n",
    "                           locations = significant_grouped_geo.index, \n",
    "                           color = 'lisa_type',\n",
    "                           color_continuous_scale = \"coolwarm\",\n",
    "                           mapbox_style = \"carto-positron\",\n",
    "                           zoom = 5, \n",
    "                           center = {\"lat\": significant_grouped_geo.INTPTLAT.mean(), \"lon\": significant_grouped_geo.INTPTLON.mean()},\n",
    "                           opacity = 0.8,\n",
    "                           hover_data = [\"NAMELSAD\"],\n",
    "                           labels = {\"lisa_type\":'LISA Type'}\n",
    "                          )\n",
    "\n",
    "fig.update_layout(margin = {\"r\":0,\"t\":0,\"l\":0,\"b\":0})\n",
    "\n",
    "fig.show()\n"
   ]
  }
 ],
 "metadata": {
  "kernelspec": {
   "display_name": "Python 3 (ipykernel)",
   "language": "python",
   "name": "python3"
  },
  "language_info": {
   "codemirror_mode": {
    "name": "ipython",
    "version": 3
   },
   "file_extension": ".py",
   "mimetype": "text/x-python",
   "name": "python",
   "nbconvert_exporter": "python",
   "pygments_lexer": "ipython3",
   "version": "3.9.7"
  }
 },
 "nbformat": 4,
 "nbformat_minor": 5
}
