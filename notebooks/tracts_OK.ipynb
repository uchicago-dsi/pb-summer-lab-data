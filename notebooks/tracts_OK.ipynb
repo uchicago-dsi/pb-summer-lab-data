{
 "cells": [
  {
   "cell_type": "code",
   "execution_count": null,
   "id": "ba6ae5ba-9e7f-414a-bb83-ea40891780c8",
   "metadata": {
    "tags": []
   },
   "outputs": [],
   "source": [
    "import pandas as pd\n",
    "import geopandas as gpd\n",
    "import matplotlib.pyplot as plt\n",
    "import numpy as np\n",
    "import folium\n",
    "import seaborn as sns\n",
    "import plotly.express as px\n",
    "import pyarrow.parquet as pq\n",
    "import matplotlib.patches as mpatches"
   ]
  },
  {
   "cell_type": "code",
   "execution_count": null,
   "id": "12d5f5b1-ef1c-49c3-9373-5b5689b5f990",
   "metadata": {
    "tags": []
   },
   "outputs": [],
   "source": [
    "vision_providers_minimal = pq.read_table(source='../data/vision_providers_minimal.parquet').to_pandas()\n",
    "vision_providers_minimal"
   ]
  },
  {
   "cell_type": "code",
   "execution_count": null,
   "id": "76bdc8ae-6b60-4a0d-a5a6-dcfb0e03bb48",
   "metadata": {
    "tags": []
   },
   "outputs": [],
   "source": [
    "tracts = gpd.read_file(\"/srv/data/my_shared_data_folder/pb-data/tracts.gpkg\")\n",
    "tracts"
   ]
  },
  {
   "cell_type": "code",
   "execution_count": null,
   "id": "1e5163ac-399a-44ce-8337-b5462f955eee",
   "metadata": {
    "tags": []
   },
   "outputs": [],
   "source": [
    "tracts_OK = tracts[tracts['STATEFP'] == '40'].reset_index(drop=True)\n",
    "tracts_OK"
   ]
  },
  {
   "cell_type": "code",
   "execution_count": null,
   "id": "0c12a7a8-0641-45a3-b2c9-0c43fe3b84b2",
   "metadata": {
    "tags": []
   },
   "outputs": [],
   "source": [
    "vision_providers_minimal = vision_providers_minimal[vision_providers_minimal[\"Entity Type Code\"] == 1].reset_index(drop=True)\n",
    "vision_providers_oklahoma = vision_providers_minimal[vision_providers_minimal[\"Provider Business Mailing Address State Name\"] == \"OK\"].reset_index(drop=True)\n",
    "vision_providers_oklahoma"
   ]
  },
  {
   "cell_type": "code",
   "execution_count": null,
   "id": "abca8c03-e154-41d2-86f6-1218194a212e",
   "metadata": {
    "tags": []
   },
   "outputs": [],
   "source": [
    "vision_providers_oklahoma = gpd.GeoDataFrame(vision_providers_oklahoma, geometry=gpd.points_from_xy(vision_providers_oklahoma.Longitude, vision_providers_oklahoma.Latitude), crs=\"EPSG:4326\")\n",
    "vision_providers_oklahoma"
   ]
  },
  {
   "cell_type": "code",
   "execution_count": null,
   "id": "cfbee2cd-4d92-44fd-b887-4c5b94b66ac8",
   "metadata": {},
   "outputs": [],
   "source": [
    "joined = gpd.sjoin(vision_providers_oklahoma, tracts_OK, predicate='within')\n",
    "joined"
   ]
  },
  {
   "cell_type": "code",
   "execution_count": null,
   "id": "4e59a0a0-b45e-4540-9d1a-d30e215fa9d9",
   "metadata": {
    "tags": []
   },
   "outputs": [],
   "source": [
    "joined['Optometry'] = joined['Taxonomy'].apply(lambda x: any(code.startswith('152') for code in x.split('|')))\n",
    "joined['Ophthalmology'] = joined['Taxonomy'].apply(lambda x: any(code.startswith('207') for code in x.split('|')))\n",
    "joined['Others'] = joined['Taxonomy'].apply(lambda x: any(code.startswith('156') for code in x.split('|')))\n",
    "\n",
    "joined"
   ]
  },
  {
   "cell_type": "code",
   "execution_count": null,
   "id": "a836b9b8-78d1-4e72-a982-4c3dab681636",
   "metadata": {
    "tags": []
   },
   "outputs": [],
   "source": [
    "grouped = joined.groupby('GEOID')[['Optometry', 'Ophthalmology', 'Others']].sum().reset_index()\n",
    "grouped"
   ]
  },
  {
   "cell_type": "code",
   "execution_count": null,
   "id": "1afcba5b-16c6-43be-afe1-c055bca12d3a",
   "metadata": {
    "tags": []
   },
   "outputs": [],
   "source": [
    "grouped_geo = pd.merge(tracts_OK, grouped, how='left', left_on='GEOID', right_on='GEOID').reset_index(drop=True)\n",
    "grouped_geo['Total_Providers'] = grouped_geo['Optometry'] + grouped_geo['Ophthalmology'] + grouped_geo['Others']\n",
    "\n",
    "grouped_geo['Optometry'].fillna(0, inplace=True)\n",
    "grouped_geo['Ophthalmology'].fillna(0, inplace=True)\n",
    "grouped_geo['Others'].fillna(0, inplace=True)\n",
    "grouped_geo['Total_Providers'].fillna(0, inplace=True)\n",
    "\n",
    "grouped_geo = grouped_geo.astype({'Optometry': 'int', 'Ophthalmology': 'int', 'Others': 'int', 'Total_Providers': 'int'})\n",
    "\n",
    "grouped_geo"
   ]
  },
  {
   "cell_type": "code",
   "execution_count": null,
   "id": "47e3956b-fbf4-4c71-81ca-a379ab119ea3",
   "metadata": {
    "tags": []
   },
   "outputs": [],
   "source": [
    "#grouped_geo.to_csv('OK_tracts_v2.csv', index=False)"
   ]
  },
  {
   "cell_type": "code",
   "execution_count": null,
   "id": "d7247755-9ae1-4bd9-8a67-be585fa5135c",
   "metadata": {
    "tags": []
   },
   "outputs": [],
   "source": [
    "fig, ax = plt.subplots(figsize=(10, 4))\n",
    "\n",
    "#tracts_OK.plot(color='lightgrey', ax=ax, edgecolor='grey')  \n",
    "\n",
    "grouped_geo.plot(column='Total_Providers', \n",
    "               cmap='Reds', \n",
    "               linewidth=0.8, \n",
    "               ax=ax, \n",
    "               edgecolor='0.8',\n",
    "               legend=True,\n",
    "               missing_kwds={'color': 'lightgrey'})\n",
    "\n",
    "ax.set_xlabel('Longitude')\n",
    "ax.set_ylabel('Latitude')\n",
    "\n",
    "plt.title('Oklahoma: Providers by Tract')\n",
    "plt.show()"
   ]
  },
  {
   "cell_type": "code",
   "execution_count": null,
   "id": "8102a534-6f93-4dc0-92d2-d32de9a53589",
   "metadata": {
    "tags": []
   },
   "outputs": [],
   "source": [
    "from libpysal import weights\n",
    "\n",
    "w = weights.Queen.from_dataframe(grouped_geo)\n",
    "\n",
    "# Standardize the weights matrix so that the weights of each location's neighbors sum to 1.\n",
    "w.transform = 'R'\n",
    "\n",
    "# Calculate the spatial lag of the Total Providers count.\n",
    "grouped_geo['lag_Total_Providers'] = weights.lag_spatial(w, grouped_geo['Total_Providers'])\n",
    "grouped_geo"
   ]
  },
  {
   "cell_type": "code",
   "execution_count": null,
   "id": "4d7813f1-5f0c-4fe5-8852-22bd1fd0fd9c",
   "metadata": {
    "tags": []
   },
   "outputs": [],
   "source": [
    "fig, ax = plt.subplots(figsize=(10, 4))\n",
    "\n",
    "#tracts_OK.plot(color='lightgrey', ax=ax, edgecolor='grey')  \n",
    "\n",
    "grouped_geo.plot(column='lag_Total_Providers', \n",
    "               cmap='Reds', \n",
    "               linewidth=0.8, \n",
    "               ax=ax, \n",
    "               edgecolor='0.8',\n",
    "               #scheme='quantiles',\n",
    "               legend=True,\n",
    "               missing_kwds={'color': 'lightgrey'})\n",
    "\n",
    "ax.set_xlabel('Longitude')\n",
    "ax.set_ylabel('Latitude')\n",
    "\n",
    "plt.title('Oklahoma: Lag Providers by Tract')\n",
    "plt.show()"
   ]
  },
  {
   "cell_type": "code",
   "execution_count": null,
   "id": "6bbe4f5d-4d22-4023-b818-6d49081aae11",
   "metadata": {
    "tags": []
   },
   "outputs": [],
   "source": [
    "from pysal.explore import esda\n",
    "\n",
    "y = grouped_geo['Total_Providers']\n",
    "\n",
    "# Compute the spatial lag of your variable\n",
    "ylag = weights.lag_spatial(w, y)\n",
    "\n",
    "# Compute local Moran's I, which gives us our LISA statistics\n",
    "lisa = esda.Moran_Local(y, w)\n",
    "\n",
    "# Create a new column in your GeoDataFrame for the LISA values\n",
    "grouped_geo['lisa_values'] = lisa.Is\n",
    "\n",
    "# Plot the LISA values\n",
    "fig, ax = plt.subplots(figsize=(12,10))\n",
    "grouped_geo.plot(column='lisa_values', scheme='quantiles', cmap='Reds', legend=True, ax=ax)\n",
    "plt.show()\n"
   ]
  },
  {
   "cell_type": "code",
   "execution_count": null,
   "id": "e030328f-506a-4948-9685-6ef35e161fcb",
   "metadata": {
    "tags": []
   },
   "outputs": [],
   "source": [
    "# Define the significance level, for example, 0.05\n",
    "alpha = 0.05\n",
    "\n",
    "# Create a binary variable indicating whether the p-value is less than alpha\n",
    "# These are your significant clusters\n",
    "grouped_geo['significant_clusters'] = lisa.p_sim < alpha\n",
    "\n",
    "# Plot the significant clusters\n",
    "fig, ax = plt.subplots(figsize=(12,10))\n",
    "grouped_geo.plot(column='significant_clusters', legend=True, ax=ax)\n",
    "plt.show()\n"
   ]
  },
  {
   "cell_type": "code",
   "execution_count": null,
   "id": "25fe6190-153f-4461-972d-5819525c13c8",
   "metadata": {
    "tags": []
   },
   "outputs": [],
   "source": [
    "grouped_geo[grouped_geo['significant_clusters'] == True]"
   ]
  },
  {
   "cell_type": "code",
   "execution_count": null,
   "id": "407bdd16-fe87-4623-8e5c-8d15ad6080ad",
   "metadata": {
    "tags": []
   },
   "outputs": [],
   "source": [
    "# Create a variable for the type of spatial pattern\n",
    "# This is based on the quadrant of the Moran scatterplot that each observation falls into\n",
    "grouped_geo['lisa_type'] = 'Not significant'\n",
    "grouped_geo.loc[(lisa.q==1) & (lisa.p_sim < alpha), 'lisa_type'] = 'High-High'\n",
    "grouped_geo.loc[(lisa.q==2) & (lisa.p_sim < alpha), 'lisa_type'] = 'Low-High'\n",
    "grouped_geo.loc[(lisa.q==3) & (lisa.p_sim < alpha), 'lisa_type'] = 'Low-Low'\n",
    "grouped_geo.loc[(lisa.q==4) & (lisa.p_sim < alpha), 'lisa_type'] = 'High-Low'\n",
    "\n",
    "fig, ax = plt.subplots(figsize=(12,10))\n",
    "grouped_geo.plot(column='lisa_type', legend=True, cmap = 'coolwarm', ax=ax)\n",
    "plt.show()\n",
    "\n",
    "\n",
    "# Plot the types of spatial patterns\n",
    "'''fig = px.choropleth_mapbox(grouped_geo, \n",
    "                           geojson=grouped_geo.geometry, \n",
    "                           locations=grouped_geo.Geo_QNAME, \n",
    "                           color=\"lisa_type\",\n",
    "                           color_continuous_scale=\"coolwarm\",\n",
    "                           mapbox_style=\"carto-positron\",\n",
    "                           zoom=5, \n",
    "                           #center = {\"lat\": grouped_geo.INTPTLAT.mean(), \"lon\": grouped_geo.INTPTLON.mean()},\n",
    "                           opacity=0.5,\n",
    "                           labels={'lisa_type':'lisa_type'}\n",
    "                          )\n",
    "\n",
    "fig.update_layout(margin={\"r\":0,\"t\":0,\"l\":0,\"b\":0})\n",
    "\n",
    "fig.show()\n",
    "'''"
   ]
  },
  {
   "cell_type": "code",
   "execution_count": null,
   "id": "926d752e-40a9-49c1-8aca-0ef22bb210c0",
   "metadata": {
    "tags": []
   },
   "outputs": [],
   "source": [
    "fig = px.choropleth_mapbox(grouped_geo, \n",
    "                           geojson=grouped_geo.geometry, \n",
    "                           locations=grouped_geo.index, \n",
    "                           color=\"Total_Providers\",\n",
    "                           color_continuous_scale=\"Reds\",\n",
    "                           mapbox_style=\"carto-positron\",\n",
    "                           zoom=5, \n",
    "                           #center = {\"lat\": grouped_geo.INTPTLAT.mean(), \"lon\": grouped_geo.INTPTLON.mean()},\n",
    "                           opacity=0.5,\n",
    "                           labels={'Total_Providers':'Total Providers'}\n",
    "                          )\n",
    "\n",
    "fig.update_layout(margin={\"r\":0,\"t\":0,\"l\":0,\"b\":0})\n",
    "\n",
    "fig.show()\n"
   ]
  }
 ],
 "metadata": {
  "kernelspec": {
   "display_name": "Python 3 (ipykernel)",
   "language": "python",
   "name": "python3"
  },
  "language_info": {
   "codemirror_mode": {
    "name": "ipython",
    "version": 3
   },
   "file_extension": ".py",
   "mimetype": "text/x-python",
   "name": "python",
   "nbconvert_exporter": "python",
   "pygments_lexer": "ipython3",
   "version": "3.9.7"
  }
 },
 "nbformat": 4,
 "nbformat_minor": 5
}
