{
 "cells": [
  {
   "cell_type": "code",
   "execution_count": null,
   "id": "0049d0c9-6276-4fd4-aeba-4b15ca4dc056",
   "metadata": {
    "tags": []
   },
   "outputs": [],
   "source": [
    "import pandas as pd\n",
    "import geopandas as gpd\n",
    "import matplotlib.pyplot as plt\n",
    "import numpy as np\n",
    "import folium\n",
    "import seaborn as sns\n",
    "import plotly.express as px\n",
    "import pyarrow.parquet as pq\n",
    "import matplotlib.patches as mpatches"
   ]
  },
  {
   "cell_type": "code",
   "execution_count": null,
   "id": "e2ea18d0-1f12-43bb-8baa-f5c374ca1713",
   "metadata": {
    "tags": []
   },
   "outputs": [],
   "source": [
    "vision_providers_minimal = pq.read_table(source='../data/vision_providers_minimal.parquet').to_pandas()\n",
    "vision_providers_minimal"
   ]
  },
  {
   "cell_type": "code",
   "execution_count": null,
   "id": "fa8f39e9-5839-4800-8134-8c1de2c15602",
   "metadata": {
    "tags": []
   },
   "outputs": [],
   "source": [
    "states = gpd.read_file(\"../data/US_State_Boundaries.zip\")\n",
    "states"
   ]
  },
  {
   "cell_type": "code",
   "execution_count": null,
   "id": "b8d5d0f1-b1c2-4e27-a42d-83d2a71023af",
   "metadata": {
    "tags": []
   },
   "outputs": [],
   "source": [
    "states = states.drop([21, 22], axis=0)\n",
    "states = states.reset_index()\n",
    "states"
   ]
  },
  {
   "cell_type": "code",
   "execution_count": null,
   "id": "0e3991ae-cfc0-4b8e-adb3-3d3eca92d2f5",
   "metadata": {
    "tags": []
   },
   "outputs": [],
   "source": [
    "vision_providers_minimal = vision_providers_minimal[vision_providers_minimal[\"Entity Type Code\"] == 1].reset_index(drop=True)\n",
    "vision_providers_minimal"
   ]
  },
  {
   "cell_type": "code",
   "execution_count": null,
   "id": "b1725d06-4a81-4f53-948b-6e7e266f0bb2",
   "metadata": {
    "tags": []
   },
   "outputs": [],
   "source": [
    "vision_providers_minimal = gpd.GeoDataFrame(vision_providers_minimal, geometry=gpd.points_from_xy(vision_providers_minimal.Longitude, vision_providers_minimal.Latitude), crs=\"EPSG:4326\")\n",
    "vision_providers_minimal"
   ]
  },
  {
   "cell_type": "code",
   "execution_count": null,
   "id": "54819b1f-50ef-4488-b817-fa3ad42932ec",
   "metadata": {
    "tags": []
   },
   "outputs": [],
   "source": [
    "states = states.to_crs(vision_providers_minimal.crs)\n",
    "\n",
    "joined = gpd.sjoin(vision_providers_minimal, states, predicate='within')\n",
    "joined"
   ]
  },
  {
   "cell_type": "code",
   "execution_count": null,
   "id": "630c2b90-d5ee-42ee-9c36-d1ced69106c7",
   "metadata": {
    "tags": []
   },
   "outputs": [],
   "source": [
    "joined['Optometry'] = joined['Taxonomy'].apply(lambda x: any(code.startswith('152') for code in x.split('|')))\n",
    "joined['Ophthalmology'] = joined['Taxonomy'].apply(lambda x: any(code.startswith('207') for code in x.split('|')))\n",
    "joined['Others'] = joined['Taxonomy'].apply(lambda x: any(code.startswith('156') for code in x.split('|')))\n",
    "\n",
    "joined"
   ]
  },
  {
   "cell_type": "code",
   "execution_count": null,
   "id": "d9c63418-85d2-4e15-9a22-817a5c8ba639",
   "metadata": {
    "tags": []
   },
   "outputs": [],
   "source": [
    "grouped = joined.groupby('NAME')[['Optometry', 'Ophthalmology', 'Others']].sum().reset_index()\n",
    "grouped.head()"
   ]
  },
  {
   "cell_type": "code",
   "execution_count": null,
   "id": "1ab38114-54e7-4b76-aff2-2ad6e68407db",
   "metadata": {
    "tags": []
   },
   "outputs": [],
   "source": [
    "grouped_geo = pd.merge(states, grouped, how='inner', left_on='NAME', right_on='NAME').reset_index(drop=True)\n",
    "grouped_geo['Total_Providers'] = grouped_geo['Optometry'] + grouped_geo['Ophthalmology'] + grouped_geo['Others']\n",
    "\n",
    "grouped_geo['Optometry'].fillna(0, inplace=True)\n",
    "grouped_geo['Ophthalmology'].fillna(0, inplace=True)\n",
    "grouped_geo['Others'].fillna(0, inplace=True)\n",
    "grouped_geo['Total_Providers'].fillna(0, inplace=True)\n",
    "\n",
    "grouped_geo = grouped_geo.astype({'Optometry': 'int', 'Ophthalmology': 'int', 'Others': 'int', 'Total_Providers': 'int'})\n",
    "\n",
    "grouped_geo"
   ]
  },
  {
   "cell_type": "code",
   "execution_count": null,
   "id": "832a5221-aaa2-4b16-bd85-7a10f14e8509",
   "metadata": {
    "tags": []
   },
   "outputs": [],
   "source": [
    "grouped_geo['Optometrists_Per_100000'] = grouped_geo['Optometry'] / grouped_geo['POP'] * 100000\n",
    "grouped_geo"
   ]
  },
  {
   "cell_type": "code",
   "execution_count": null,
   "id": "e01d4b57-5736-4529-9475-1def05a6baf5",
   "metadata": {
    "tags": []
   },
   "outputs": [],
   "source": [
    "grouped_geo['Ophthalmologists_Per_100000'] = grouped_geo['Ophthalmology'] / grouped_geo['POP'] * 100000\n",
    "grouped_geo"
   ]
  }
 ],
 "metadata": {
  "kernelspec": {
   "display_name": "Python 3 (ipykernel)",
   "language": "python",
   "name": "python3"
  },
  "language_info": {
   "codemirror_mode": {
    "name": "ipython",
    "version": 3
   },
   "file_extension": ".py",
   "mimetype": "text/x-python",
   "name": "python",
   "nbconvert_exporter": "python",
   "pygments_lexer": "ipython3",
   "version": "3.9.7"
  }
 },
 "nbformat": 4,
 "nbformat_minor": 5
}
