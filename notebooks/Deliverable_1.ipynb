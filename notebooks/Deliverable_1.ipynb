{
 "cells": [
  {
   "cell_type": "code",
   "execution_count": null,
   "id": "81407346-58e0-4180-8a99-0a594475b83d",
   "metadata": {
    "tags": []
   },
   "outputs": [],
   "source": [
    "import pandas as pd\n",
    "import geopandas as gpd\n",
    "import matplotlib.pyplot as plt\n",
    "import numpy as np\n",
    "import plotly.express as px\n",
    "import pyarrow.parquet as pq\n",
    "from libpysal import weights\n",
    "from pysal.explore import esda"
   ]
  },
  {
   "cell_type": "code",
   "execution_count": null,
   "id": "680886a0-778d-421a-81b3-8e550929de77",
   "metadata": {
    "tags": []
   },
   "outputs": [],
   "source": [
    "vision_providers_minimal = pq.read_table(source='../data/vision_providers_minimal.parquet').to_pandas()\n",
    "vision_providers_minimal"
   ]
  },
  {
   "cell_type": "code",
   "execution_count": null,
   "id": "07741854-c4fd-44c6-aea5-00fd4e997311",
   "metadata": {
    "tags": []
   },
   "outputs": [],
   "source": [
    "vision_providers_minimal = vision_providers_minimal[vision_providers_minimal[\"Entity Type Code\"] == 1].reset_index(drop=True)\n",
    "vision_providers_minimal"
   ]
  },
  {
   "cell_type": "code",
   "execution_count": null,
   "id": "170ae9b9-7ebc-4091-b60a-88369510be1e",
   "metadata": {
    "tags": []
   },
   "outputs": [],
   "source": [
    "vision_providers_minimal = gpd.GeoDataFrame(vision_providers_minimal, geometry=gpd.points_from_xy(vision_providers_minimal.Longitude, vision_providers_minimal.Latitude), crs=\"EPSG:4326\")\n",
    "vision_providers_minimal"
   ]
  },
  {
   "cell_type": "markdown",
   "id": "fe962d41-342d-479d-9732-055e85dde4d6",
   "metadata": {},
   "source": [
    "States"
   ]
  },
  {
   "cell_type": "code",
   "execution_count": null,
   "id": "bbe660da-06c3-4473-b8ce-ee7f06385169",
   "metadata": {},
   "outputs": [],
   "source": [
    "states = gpd.read_file(\"../data/US_State_Boundaries.zip\")\n",
    "states"
   ]
  },
  {
   "cell_type": "code",
   "execution_count": null,
   "id": "db62e45d-74b1-4432-8352-37c4424860c1",
   "metadata": {},
   "outputs": [],
   "source": [
    "states = states.drop([21, 22], axis=0)\n",
    "states = states.reset_index()\n",
    "states"
   ]
  },
  {
   "cell_type": "code",
   "execution_count": null,
   "id": "dcab46d9-62d2-457d-bed7-24727b2559a2",
   "metadata": {},
   "outputs": [],
   "source": [
    "states = states.to_crs(vision_providers_minimal.crs)\n",
    "\n",
    "joined_states = gpd.sjoin(vision_providers_minimal, states, predicate='within')\n",
    "joined_states"
   ]
  },
  {
   "cell_type": "code",
   "execution_count": null,
   "id": "0773e827-8926-4fde-bf9a-67af640933d1",
   "metadata": {},
   "outputs": [],
   "source": [
    "joined_states['Optometry'] = joined_states['Taxonomy'].apply(lambda x: any(code.startswith('152') for code in x.split('|')))\n",
    "joined_states['Ophthalmology'] = joined_states['Taxonomy'].apply(lambda x: any(code.startswith('207') for code in x.split('|')))\n",
    "joined_states['Others'] = joined_states['Taxonomy'].apply(lambda x: any(code.startswith('156') for code in x.split('|')))\n",
    "\n",
    "joined_states"
   ]
  },
  {
   "cell_type": "code",
   "execution_count": null,
   "id": "f177e182-8db8-4aa0-b245-b85ea587ddc3",
   "metadata": {},
   "outputs": [],
   "source": [
    "grouped_states = joined_states.groupby('NAME')[['Optometry', 'Ophthalmology', 'Others']].sum().reset_index()\n",
    "grouped_states.head()"
   ]
  },
  {
   "cell_type": "code",
   "execution_count": null,
   "id": "b5aacc6c-a336-4c91-bafb-981e7719614f",
   "metadata": {},
   "outputs": [],
   "source": [
    "grouped_geo_states = pd.merge(states, grouped, how='inner', left_on='NAME', right_on='NAME').reset_index(drop=True)\n",
    "\n",
    "grouped_geo_states['Optometry'].fillna(0, inplace=True)\n",
    "grouped_geo_states['Ophthalmology'].fillna(0, inplace=True)\n",
    "grouped_geo_states['Others'].fillna(0, inplace=True)\n",
    "\n",
    "grouped_geo_states = grouped_geo_states.astype({'Optometry': 'int', 'Ophthalmology': 'int', 'Others': 'int'})\n",
    "\n",
    "grouped_geo_states"
   ]
  },
  {
   "cell_type": "code",
   "execution_count": null,
   "id": "a05f7987-6a3a-423f-9aed-891cf2d7f662",
   "metadata": {},
   "outputs": [],
   "source": [
    "grouped_geo_states['Optometrists_Per_100000'] = grouped_geo_states['Optometry'] / grouped_geo['POP'] * 100000\n",
    "grouped_geo_states['Ophthalmologists_Per_100000'] = grouped_geo_states['Ophthalmology'] / grouped_geo['POP'] * 100000\n",
    "grouped_geo_states"
   ]
  },
  {
   "cell_type": "code",
   "execution_count": null,
   "id": "74d59b56-e3ad-48bb-97e2-f50f0cc787c0",
   "metadata": {},
   "outputs": [],
   "source": [
    "w = weights.Queen.from_dataframe(grouped_geo_states)\n",
    "\n",
    "w.transform = 'R'\n",
    "\n",
    "# Calculate the spatial lag of the Total Providers count.\n",
    "grouped_geo_states['lag_Optometry'] = weights.lag_spatial(w, grouped_geo_states['Optometry'])\n",
    "grouped_geo_states['lag_Ophthalmology'] = weights.lag_spatial(w, grouped_geo_states['Ophthalmology'])\n",
    "\n",
    "grouped_geo_states"
   ]
  },
  {
   "cell_type": "code",
   "execution_count": null,
   "id": "3dd1e83d-1b51-42cb-8984-2507cf21a24d",
   "metadata": {},
   "outputs": [],
   "source": [
    "y = grouped_geo_states['Optometry']\n",
    "\n",
    "# Compute the spatial lag of your variable\n",
    "ylag = weights.lag_spatial(w, y)\n",
    "\n",
    "# Compute local Moran's I, which gives us our LISA statistics\n",
    "lisa = esda.Moran_Local(y, w)\n",
    "\n",
    "# Create a new column in your GeoDataFrame for the LISA values\n",
    "grouped_geo_states['lisa_values'] = lisa.Is"
   ]
  },
  {
   "cell_type": "code",
   "execution_count": null,
   "id": "96f5a5be-d5df-4e85-b25c-89514e31ab1d",
   "metadata": {},
   "outputs": [],
   "source": [
    "# Plot the LISA values\n",
    "fig, ax = plt.subplots(figsize=(12,10))\n",
    "grouped_geo_states.plot(column='lisa_values', scheme='quantiles', cmap='Reds', legend=True, ax=ax)\n",
    "plt.show()"
   ]
  },
  {
   "cell_type": "code",
   "execution_count": null,
   "id": "9cad4b92-f28d-4a4a-848d-44171833d0d8",
   "metadata": {},
   "outputs": [],
   "source": [
    "# Define the significance level, for example, 0.05\n",
    "alpha = 0.05\n",
    "\n",
    "# Create a binary variable indicating whether the p-value is less than alpha\n",
    "# These are the significant clusters\n",
    "grouped_geo_states['significant_clusters'] = lisa.p_sim < alpha\n",
    "\n",
    "# Plot the significant clusters\n",
    "fig, ax = plt.subplots(figsize=(12,10))\n",
    "grouped_geo_states.plot(column='significant_clusters', legend=True, ax=ax)\n",
    "plt.show()"
   ]
  },
  {
   "cell_type": "code",
   "execution_count": null,
   "id": "aac227ee-30c3-4d31-9fff-90b0e43be0ef",
   "metadata": {},
   "outputs": [],
   "source": [
    "grouped_geo_states['lisa_type'] = 'Not significant'\n",
    "grouped_geo_states.loc[(lisa.q==1) & (lisa.p_sim < alpha), 'lisa_type'] = 'High-High'\n",
    "grouped_geo_states.loc[(lisa.q==2) & (lisa.p_sim < alpha), 'lisa_type'] = 'Low-High'\n",
    "grouped_geo_states.loc[(lisa.q==3) & (lisa.p_sim < alpha), 'lisa_type'] = 'Low-Low'\n",
    "grouped_geo_states.loc[(lisa.q==4) & (lisa.p_sim < alpha), 'lisa_type'] = 'High-Low'"
   ]
  },
  {
   "cell_type": "code",
   "execution_count": null,
   "id": "7d054905-e4ab-44ae-bce4-8792eb184f5b",
   "metadata": {},
   "outputs": [],
   "source": [
    "fig, ax = plt.subplots(figsize=(12,10))\n",
    "grouped_geo_states.plot(column='lisa_type', legend=True, cmap = 'coolwarm', ax=ax)\n",
    "plt.show()"
   ]
  },
  {
   "cell_type": "markdown",
   "id": "2501adfe-029a-4544-9cf7-a7a5fabdd029",
   "metadata": {},
   "source": [
    "Counties"
   ]
  },
  {
   "cell_type": "code",
   "execution_count": null,
   "id": "73a47dfb-ba2d-429c-9c75-950da5f38298",
   "metadata": {
    "tags": []
   },
   "outputs": [],
   "source": [
    "counties = gpd.read_file(\"/srv/data/my_shared_data_folder/pb-data/county.gpkg\")\n",
    "counties"
   ]
  },
  {
   "cell_type": "code",
   "execution_count": null,
   "id": "a1e32d6f-76cb-4573-8e11-1e3a0fff57a3",
   "metadata": {
    "tags": []
   },
   "outputs": [],
   "source": [
    "counties = counties.to_crs(vision_providers_minimal.crs)\n",
    "\n",
    "joined_counties = gpd.sjoin(vision_providers_minimal, counties, predicate='within')\n",
    "joined_counties"
   ]
  },
  {
   "cell_type": "code",
   "execution_count": null,
   "id": "65723d10-8423-49dd-b2de-ebd032966d5d",
   "metadata": {
    "tags": []
   },
   "outputs": [],
   "source": [
    "joined_counties['Optometry'] = joined_counties['Taxonomy'].apply(lambda x: any(code.startswith('152') for code in x.split('|')))\n",
    "joined_counties['Ophthalmology'] = joined_counties['Taxonomy'].apply(lambda x: any(code.startswith('207') for code in x.split('|')))\n",
    "joined_counties['Others'] = joined_counties['Taxonomy'].apply(lambda x: any(code.startswith('156') for code in x.split('|')))\n",
    "\n",
    "joined_counties"
   ]
  },
  {
   "cell_type": "code",
   "execution_count": null,
   "id": "8b949fbc-23b8-487d-ac05-fdacec5a8598",
   "metadata": {
    "tags": []
   },
   "outputs": [],
   "source": [
    "grouped_counties = joined_counties.groupby('GEOID')[['Optometry', 'Ophthalmology', 'Others']].sum().reset_index()\n",
    "grouped_counties"
   ]
  },
  {
   "cell_type": "code",
   "execution_count": null,
   "id": "03e19411-3660-424b-9eaa-7538edf823ce",
   "metadata": {
    "tags": []
   },
   "outputs": [],
   "source": [
    "grouped_geo_counties = pd.merge(counties, grouped_counties, how='left', left_on='GEOID', right_on='GEOID').reset_index(drop=True)\n",
    "\n",
    "grouped_geo_counties['Optometry'].fillna(0, inplace=True)\n",
    "grouped_geo_counties['Ophthalmology'].fillna(0, inplace=True)\n",
    "grouped_geo_counties['Others'].fillna(0, inplace=True)\n",
    "\n",
    "grouped_geo_counties = grouped_geo_counties.astype({'Optometry': 'int', 'Ophthalmology': 'int', 'Others': 'int'})\n",
    "\n",
    "grouped_geo_counties"
   ]
  },
  {
   "cell_type": "code",
   "execution_count": null,
   "id": "db5b8cec-6410-4446-985c-f28e06bc726f",
   "metadata": {
    "tags": []
   },
   "outputs": [],
   "source": [
    "grouped_geo_counties['INTPTLAT'] = pd.to_numeric(grouped_geo_counties['INTPTLAT'], errors='coerce')\n",
    "grouped_geo_counties['INTPTLON'] = pd.to_numeric(grouped_geo_counties['INTPTLON'], errors='coerce')\n",
    "''''\n",
    "fig = px.choropleth_mapbox(grouped_geo_counties, \n",
    "                           geojson = grouped_geo_counties.geometry, \n",
    "                           locations = grouped_geo_counties.index, \n",
    "                           color = 'Optometry',\n",
    "                           color_continuous_scale = \"greens\",\n",
    "                           mapbox_style = \"carto-positron\",\n",
    "                           zoom = 5, \n",
    "                           center = {\"lat\": grouped_geo_counties.INTPTLAT.mean(), \"lon\": grouped_geo_counties.INTPTLON.mean()},\n",
    "                           opacity = 0.8,\n",
    "                           hover_data = [\"NAMELSAD\"],\n",
    "                           labels = {\"Optometry\":'Optometry'}\n",
    "                          )\n",
    "\n",
    "fig.update_layout(margin = {\"r\":0,\"t\":0,\"l\":0,\"b\":0})\n",
    "\n",
    "fig.show()\n",
    "'''"
   ]
  },
  {
   "cell_type": "code",
   "execution_count": null,
   "id": "adba3baa-c846-4bfe-a7f1-191136e119d7",
   "metadata": {},
   "outputs": [],
   "source": [
    "w = weights.Queen.from_dataframe(grouped_geo_counties)\n",
    "\n",
    "w.transform = 'R'\n",
    "\n",
    "# Calculate the spatial lag of the Total Providers count.\n",
    "grouped_geo_counties['lag_Optometry'] = weights.lag_spatial(w, grouped_geo_counties['Optometry'])\n",
    "grouped_geo_counties['lag_Ophthalmology'] = weights.lag_spatial(w, grouped_geo_counties['Ophthalmology'])\n",
    "grouped_geo_counties"
   ]
  },
  {
   "cell_type": "code",
   "execution_count": null,
   "id": "0f76d8ec-9681-4c47-a6a1-658da7d4e8f3",
   "metadata": {},
   "outputs": [],
   "source": [
    "y = grouped_geo_counties['Optometry']\n",
    "\n",
    "# Compute the spatial lag of your variable\n",
    "ylag = weights.lag_spatial(w, y)\n",
    "\n",
    "# Compute local Moran's I, which gives us our LISA statistics\n",
    "lisa = esda.Moran_Local(y, w)\n",
    "\n",
    "# Create a new column in your GeoDataFrame for the LISA values\n",
    "grouped_geo_counties['lisa_values'] = lisa.Is"
   ]
  },
  {
   "cell_type": "code",
   "execution_count": null,
   "id": "402c8a23-12a3-490f-802d-b6451a5a37bf",
   "metadata": {},
   "outputs": [],
   "source": [
    "# Plot the LISA values\n",
    "fig, ax = plt.subplots(figsize=(12,10))\n",
    "grouped_geo_counties.plot(column='lisa_values', scheme='quantiles', cmap='Reds', legend=True, ax=ax)\n",
    "plt.show()"
   ]
  },
  {
   "cell_type": "code",
   "execution_count": null,
   "id": "5620d4a7-acf9-47cb-8b97-0010fd88a4c5",
   "metadata": {},
   "outputs": [],
   "source": [
    "# Define the significance level, for example, 0.05\n",
    "alpha = 0.05\n",
    "\n",
    "# Create a binary variable indicating whether the p-value is less than alpha\n",
    "# These are the significant clusters\n",
    "grouped_geo_counties['significant_clusters'] = lisa.p_sim < alpha\n",
    "\n",
    "# Plot the significant clusters\n",
    "fig, ax = plt.subplots(figsize=(12,10))\n",
    "grouped_geo_counties.plot(column='significant_clusters', legend=True, ax=ax)\n",
    "plt.show()"
   ]
  },
  {
   "cell_type": "code",
   "execution_count": null,
   "id": "1748fe8b-da08-49cc-96ba-a6a3985237c5",
   "metadata": {},
   "outputs": [],
   "source": [
    "grouped_geo_counties['lisa_type'] = 'Not significant'\n",
    "grouped_geo_counties.loc[(lisa.q==1) & (lisa.p_sim < alpha), 'lisa_type'] = 'High-High'\n",
    "grouped_geo_counties.loc[(lisa.q==2) & (lisa.p_sim < alpha), 'lisa_type'] = 'Low-High'\n",
    "grouped_geo_counties.loc[(lisa.q==3) & (lisa.p_sim < alpha), 'lisa_type'] = 'Low-Low'\n",
    "grouped_geo_counties.loc[(lisa.q==4) & (lisa.p_sim < alpha), 'lisa_type'] = 'High-Low'"
   ]
  },
  {
   "cell_type": "code",
   "execution_count": null,
   "id": "fcf49706-bfa1-4447-9799-f012a4a635c5",
   "metadata": {},
   "outputs": [],
   "source": [
    "fig, ax = plt.subplots(figsize=(12,10))\n",
    "grouped_geo_counties.plot(column='lisa_type', legend=True, cmap = 'coolwarm', ax=ax)\n",
    "plt.show()"
   ]
  },
  {
   "cell_type": "markdown",
   "id": "7161b324-b0c6-47f9-89ff-9825689163b5",
   "metadata": {},
   "source": [
    "Census Tracts"
   ]
  },
  {
   "cell_type": "code",
   "execution_count": null,
   "id": "bed95712-dfe0-442f-b30e-f833e1dcdd10",
   "metadata": {},
   "outputs": [],
   "source": [
    "tracts = gpd.read_file(\"../data/ILCensusTracts.zip\")\n",
    "tracts"
   ]
  },
  {
   "cell_type": "code",
   "execution_count": null,
   "id": "f292ae2f-4a50-4f7e-9a08-d1ec97752795",
   "metadata": {},
   "outputs": [],
   "source": [
    "tracts = tracts.to_crs(vision_providers_minimal.crs)\n",
    "\n",
    "joined = gpd.sjoin(vision_providers_minimal, tracts, predicate='within')\n",
    "joined"
   ]
  },
  {
   "cell_type": "code",
   "execution_count": null,
   "id": "91963b7f-ec92-4168-8ce6-09b1a777c683",
   "metadata": {},
   "outputs": [],
   "source": [
    "joined_tracts['Optometry'] = joined_tracts['Taxonomy'].apply(lambda x: any(code.startswith('152') for code in x.split('|')))\n",
    "joined_tracts['Ophthalmology'] = joined_tracts['Taxonomy'].apply(lambda x: any(code.startswith('207') for code in x.split('|')))\n",
    "joined_tracts['Others'] = joined_tracts['Taxonomy'].apply(lambda x: any(code.startswith('156') for code in x.split('|')))\n",
    "\n",
    "joined_tracts"
   ]
  },
  {
   "cell_type": "code",
   "execution_count": null,
   "id": "2d23367e-c426-4800-bb4f-d8943e0b3911",
   "metadata": {},
   "outputs": [],
   "source": [
    "grouped_tracts = joined_tracts.groupby('GEOID')[['Optometry', 'Ophthalmology', 'Others']].sum().reset_index()\n",
    "grouped_tracts"
   ]
  },
  {
   "cell_type": "code",
   "execution_count": null,
   "id": "9f47ac8a-2b3f-496c-a681-11f4431460aa",
   "metadata": {},
   "outputs": [],
   "source": [
    "grouped_geo_tracts = pd.merge(tracts, grouped_tracts, how='left', left_on='GEOID', right_on='GEOID').reset_index(drop=True)\n",
    "\n",
    "grouped_geo_tracts['Optometry'].fillna(0, inplace=True)\n",
    "grouped_geo_tracts['Ophthalmology'].fillna(0, inplace=True)\n",
    "grouped_geo_tracts['Others'].fillna(0, inplace=True)\n",
    "\n",
    "grouped_geo_tracts = grouped_geo_tracts.astype({'Optometry': 'int', 'Ophthalmology': 'int', 'Others': 'int'})\n",
    "\n",
    "grouped_geo_tracts"
   ]
  },
  {
   "cell_type": "code",
   "execution_count": null,
   "id": "4234fd66-afa7-4b6f-a898-3cb7ad85af99",
   "metadata": {},
   "outputs": [],
   "source": [
    "w = weights.Queen.from_dataframe(grouped_geo_tracts)\n",
    "\n",
    "w.transform = 'R'\n",
    "\n",
    "# Calculate the spatial lag of the Total Providers count.\n",
    "grouped_geo_tracts['lag_Optometry'] = weights.lag_spatial(w, grouped_geo_tracts['Optometry'])\n",
    "grouped_geo_tracts['lag_Ophthalmology'] = weights.lag_spatial(w, grouped_geo_tracts['Ophthalmology'])\n",
    "\n",
    "grouped_geo_tracts"
   ]
  },
  {
   "cell_type": "code",
   "execution_count": null,
   "id": "95ed2408-08d0-430a-920a-0b2727a20844",
   "metadata": {},
   "outputs": [],
   "source": [
    "y = grouped_geo_tracts['Optometry']\n",
    "\n",
    "# Compute the spatial lag of your variable\n",
    "ylag = weights.lag_spatial(w, y)\n",
    "\n",
    "# Compute local Moran's I, which gives us our LISA statistics\n",
    "lisa = esda.Moran_Local(y, w)\n",
    "\n",
    "# Create a new column in your GeoDataFrame for the LISA values\n",
    "grouped_geo_tracts['lisa_values'] = lisa.Is"
   ]
  },
  {
   "cell_type": "code",
   "execution_count": null,
   "id": "d29bfce8-9dc4-4bed-861d-fb9e4443c4a3",
   "metadata": {},
   "outputs": [],
   "source": [
    "# Plot the LISA values\n",
    "fig, ax = plt.subplots(figsize=(12,10))\n",
    "grouped_geo_tracts.plot(column='lisa_values', scheme='quantiles', cmap='Reds', legend=True, ax=ax)\n",
    "plt.show()"
   ]
  },
  {
   "cell_type": "code",
   "execution_count": null,
   "id": "de53681e-b047-4829-b969-551c370794f8",
   "metadata": {},
   "outputs": [],
   "source": [
    "# Define the significance level, for example, 0.05\n",
    "alpha = 0.05\n",
    "\n",
    "# Create a binary variable indicating whether the p-value is less than alpha\n",
    "# These are the significant clusters\n",
    "grouped_geo_tracts['significant_clusters'] = lisa.p_sim < alpha\n",
    "\n",
    "# Plot the significant clusters\n",
    "fig, ax = plt.subplots(figsize=(12,10))\n",
    "grouped_geo_tracts.plot(column='significant_clusters', legend=True, ax=ax)\n",
    "plt.show()"
   ]
  },
  {
   "cell_type": "code",
   "execution_count": null,
   "id": "75b31a51-cb8d-470e-b4ca-d078b9e8a8ba",
   "metadata": {
    "scrolled": true,
    "tags": []
   },
   "outputs": [],
   "source": [
    "grouped_geo_tracts['lisa_type'] = 'Not significant'\n",
    "grouped_geo_tracts.loc[(lisa.q==1) & (lisa.p_sim < alpha), 'lisa_type'] = 'High-High'\n",
    "grouped_geo_tracts.loc[(lisa.q==2) & (lisa.p_sim < alpha), 'lisa_type'] = 'Low-High'\n",
    "grouped_geo_tracts.loc[(lisa.q==3) & (lisa.p_sim < alpha), 'lisa_type'] = 'Low-Low'\n",
    "grouped_geo_tracts.loc[(lisa.q==4) & (lisa.p_sim < alpha), 'lisa_type'] = 'High-Low'"
   ]
  },
  {
   "cell_type": "code",
   "execution_count": null,
   "id": "1603e01e-614a-4bb6-af18-8e529146d0be",
   "metadata": {},
   "outputs": [],
   "source": [
    "fig, ax = plt.subplots(figsize=(12,10))\n",
    "grouped_geo_tracts.plot(column='lisa_type', legend=True, cmap = 'coolwarm', ax=ax)\n",
    "plt.show()"
   ]
  }
 ],
 "metadata": {
  "kernelspec": {
   "display_name": "Python 3 (ipykernel)",
   "language": "python",
   "name": "python3"
  },
  "language_info": {
   "codemirror_mode": {
    "name": "ipython",
    "version": 3
   },
   "file_extension": ".py",
   "mimetype": "text/x-python",
   "name": "python",
   "nbconvert_exporter": "python",
   "pygments_lexer": "ipython3",
   "version": "3.9.7"
  }
 },
 "nbformat": 4,
 "nbformat_minor": 5
}
