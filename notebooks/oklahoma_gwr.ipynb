{
 "cells": [
  {
   "cell_type": "code",
   "execution_count": 1,
   "metadata": {},
   "outputs": [
    {
     "name": "stderr",
     "output_type": "stream",
     "text": [
      "/Users/dylanhalpern/miniconda/envs/pb_can_39/lib/python3.9/site-packages/libpysal/cg/alpha_shapes.py:39: NumbaDeprecationWarning: The 'nopython' keyword argument was not supplied to the 'numba.jit' decorator. The implicit default value for this argument is currently False, but it will be changed to True in Numba 0.59.0. See https://numba.readthedocs.io/en/stable/reference/deprecation.html#deprecation-of-object-mode-fall-back-behaviour-when-using-jit for details.\n",
      "  def nb_dist(x, y):\n",
      "/Users/dylanhalpern/miniconda/envs/pb_can_39/lib/python3.9/site-packages/libpysal/cg/alpha_shapes.py:165: NumbaDeprecationWarning: The 'nopython' keyword argument was not supplied to the 'numba.jit' decorator. The implicit default value for this argument is currently False, but it will be changed to True in Numba 0.59.0. See https://numba.readthedocs.io/en/stable/reference/deprecation.html#deprecation-of-object-mode-fall-back-behaviour-when-using-jit for details.\n",
      "  def get_faces(triangle):\n",
      "/Users/dylanhalpern/miniconda/envs/pb_can_39/lib/python3.9/site-packages/libpysal/cg/alpha_shapes.py:199: NumbaDeprecationWarning: The 'nopython' keyword argument was not supplied to the 'numba.jit' decorator. The implicit default value for this argument is currently False, but it will be changed to True in Numba 0.59.0. See https://numba.readthedocs.io/en/stable/reference/deprecation.html#deprecation-of-object-mode-fall-back-behaviour-when-using-jit for details.\n",
      "  def build_faces(faces, triangles_is, num_triangles, num_faces_single):\n",
      "/Users/dylanhalpern/miniconda/envs/pb_can_39/lib/python3.9/site-packages/libpysal/cg/alpha_shapes.py:261: NumbaDeprecationWarning: The 'nopython' keyword argument was not supplied to the 'numba.jit' decorator. The implicit default value for this argument is currently False, but it will be changed to True in Numba 0.59.0. See https://numba.readthedocs.io/en/stable/reference/deprecation.html#deprecation-of-object-mode-fall-back-behaviour-when-using-jit for details.\n",
      "  def nb_mask_faces(mask, faces):\n"
     ]
    }
   ],
   "source": [
    "import geopandas as gpd\n",
    "import pandas as pd\n",
    "import numpy as np\n",
    "from mgwr.gwr import GWR\n",
    "from mgwr.sel_bw import Sel_BW\n",
    "from mgwr.summary import summaryModel, summaryGLM, summaryGWR\n",
    "from os import path\n",
    "pd.set_option('display.max_columns', None)"
   ]
  },
  {
   "cell_type": "code",
   "execution_count": 2,
   "metadata": {},
   "outputs": [],
   "source": [
    "data_dir = path.join('..', 'data')"
   ]
  },
  {
   "cell_type": "code",
   "execution_count": 3,
   "metadata": {},
   "outputs": [],
   "source": [
    "vision = pd.read_parquet(path.join(data_dir, \"vision_providers_minimal.parquet\"))\n",
    "censusTractok = gpd.read_file(path.join(data_dir, \"Oklahoma\", \"OK Tracts Collect.zip\"))\n",
    "##This dataframe contains information for ophthalmology only; Contains distances, geometry, and GEOID\n",
    "oklahomamerged = pd.read_csv(path.join(data_dir, \"correctdf.csv\"))\n",
    "okdemographs = pd.read_csv(path.join(data_dir, \"Oklahoma\",\"Socio-Econ_Factor_OK_by_Tract.csv\"))"
   ]
  },
  {
   "cell_type": "code",
   "execution_count": 4,
   "metadata": {},
   "outputs": [],
   "source": [
    "OKcentroids = censusTractok.copy().to_crs(\"ESRI:102008\")\n",
    "OKcentroids['geometry'] = OKcentroids['geometry'].centroid"
   ]
  },
  {
   "cell_type": "code",
   "execution_count": 6,
   "metadata": {},
   "outputs": [
    {
     "name": "stderr",
     "output_type": "stream",
     "text": [
      "/var/folders/y0/hhpt053172987s509j7zft480000gn/T/ipykernel_60710/2026838144.py:6: SettingWithCopyWarning: \n",
      "A value is trying to be set on a copy of a slice from a DataFrame.\n",
      "Try using .loc[row_indexer,col_indexer] = value instead\n",
      "\n",
      "See the caveats in the documentation: https://pandas.pydata.org/pandas-docs/stable/user_guide/indexing.html#returning-a-view-versus-a-copy\n",
      "  vision2['Optometry'] = vision2['Taxonomy'].apply(lambda x: any(code.startswith('152') for code in x.split('|')))\n",
      "/var/folders/y0/hhpt053172987s509j7zft480000gn/T/ipykernel_60710/2026838144.py:9: SettingWithCopyWarning: \n",
      "A value is trying to be set on a copy of a slice from a DataFrame.\n",
      "Try using .loc[row_indexer,col_indexer] = value instead\n",
      "\n",
      "See the caveats in the documentation: https://pandas.pydata.org/pandas-docs/stable/user_guide/indexing.html#returning-a-view-versus-a-copy\n",
      "  vision2['Ophthalmology'] = vision2['Taxonomy'].apply(lambda x: any(code.startswith('207') for code in x.split('|')))\n",
      "/var/folders/y0/hhpt053172987s509j7zft480000gn/T/ipykernel_60710/2026838144.py:12: SettingWithCopyWarning: \n",
      "A value is trying to be set on a copy of a slice from a DataFrame.\n",
      "Try using .loc[row_indexer,col_indexer] = value instead\n",
      "\n",
      "See the caveats in the documentation: https://pandas.pydata.org/pandas-docs/stable/user_guide/indexing.html#returning-a-view-versus-a-copy\n",
      "  vision2['Others'] = vision2['Taxonomy'].apply(lambda x: any(code.startswith('156') for code in x.split('|')))\n"
     ]
    }
   ],
   "source": [
    "#subsetting vision provider data based on classification (ie optometrist/ophthamologist) and entity type\n",
    "#Filtering for vision care providers\n",
    "vision2 = vision[vision[\"Entity Type Code\"] == 1]\n",
    "\n",
    "#Checking if taxonomy code starts with 152\n",
    "vision2['Optometry'] = vision2['Taxonomy'].apply(lambda x: any(code.startswith('152') for code in x.split('|')))\n",
    "\n",
    "#Checking if taxonomy code starts with 207\n",
    "vision2['Ophthalmology'] = vision2['Taxonomy'].apply(lambda x: any(code.startswith('207') for code in x.split('|')))\n",
    "\n",
    "#Checking if taxonomy code starts with 156\n",
    "vision2['Others'] = vision2['Taxonomy'].apply(lambda x: any(code.startswith('156') for code in x.split('|')))\n",
    "\n",
    "#Creating a GeoDataFrame with geometry from latitude and longitude\n",
    "vision3 = gpd.GeoDataFrame(\n",
    "   vision2, geometry=gpd.points_from_xy(vision2.Longitude, vision2.Latitude),\n",
    "    crs=\"EPSG:4326\")\n",
    "\n",
    "#Filtering for providers in Oklahoma\n",
    "vision3 = vision3[vision3[\"Provider Business Mailing Address State Name\"] == 'OK']\n",
    "\n",
    "#Changing the CRS to a projected CRS\n",
    "vision3p = vision3.to_crs(\"ESRI:102008\")"
   ]
  },
  {
   "cell_type": "code",
   "execution_count": 7,
   "metadata": {},
   "outputs": [],
   "source": [
    "merged_df = pd.merge(oklahomamerged, okdemographs, on='GEOID', how='inner')\n",
    "merged_df['GEOID']=merged_df['GEOID'].astype(int)\n",
    "censusTractok['GEOID']=censusTractok['GEOID'].astype(int)"
   ]
  },
  {
   "cell_type": "code",
   "execution_count": 8,
   "metadata": {},
   "outputs": [],
   "source": [
    "zipmerge = pd.merge(censusTractok, merged_df, how= 'left', on= \"GEOID\")\n",
    "zipmerge = zipmerge.set_geometry(zipmerge[\"geometry_x\"])\n",
    "y = zipmerge['Distances'].values.reshape((-1,1)) # reshape is needed to have column array\n",
    "White = zipmerge['WhitePerc'].values.reshape((-1,1))"
   ]
  },
  {
   "cell_type": "code",
   "execution_count": 9,
   "metadata": {},
   "outputs": [],
   "source": [
    "MHI = zipmerge['Median_household_income'].values.reshape((-1,1))\n",
    "Bache = zipmerge['Bach_or_higher_perc'].values.reshape((-1,1))\n",
    "X = np.array([MHI, Bache, White]).reshape((-1, 3))\n",
    "X_shape = X.shape"
   ]
  },
  {
   "cell_type": "code",
   "execution_count": 10,
   "metadata": {},
   "outputs": [],
   "source": [
    "u = zipmerge['Longitude']\n",
    "v = zipmerge['Latitude']\n",
    "coords = list(zip(u,v))"
   ]
  },
  {
   "cell_type": "code",
   "execution_count": 11,
   "metadata": {},
   "outputs": [],
   "source": [
    "gwr_selector = Sel_BW(coords, y, X)\n",
    "gwr_bw = gwr_selector.search()"
   ]
  },
  {
   "cell_type": "code",
   "execution_count": 12,
   "metadata": {},
   "outputs": [
    {
     "name": "stdout",
     "output_type": "stream",
     "text": [
      "===========================================================================\n",
      "Model type                                                         Gaussian\n",
      "Number of observations:                                                1205\n",
      "Number of covariates:                                                     4\n",
      "\n",
      "Global Regression Results\n",
      "---------------------------------------------------------------------------\n",
      "Residual sum of squares:                                       1227308953359.036\n",
      "Log-likelihood:                                                  -14206.641\n",
      "AIC:                                                              28421.282\n",
      "AICc:                                                             28423.332\n",
      "BIC:                                                           1227308944838.860\n",
      "R2:                                                                   0.000\n",
      "Adj. R2:                                                             -0.002\n",
      "\n",
      "Variable                              Est.         SE  t(Est/SE)    p-value\n",
      "------------------------------- ---------- ---------- ---------- ----------\n",
      "X0                               19031.621   1103.336     17.249      0.000\n",
      "X1                                  -0.014      0.060     -0.238      0.812\n",
      "X2                                  -0.022      0.058     -0.384      0.701\n",
      "X3                                   0.034      0.053      0.637      0.524\n",
      "\n",
      "Geographically Weighted Regression (GWR) Results\n",
      "---------------------------------------------------------------------------\n",
      "Spatial kernel:                                           Adaptive bisquare\n",
      "Bandwidth used:                                                     118.000\n",
      "\n",
      "Diagnostic information\n",
      "---------------------------------------------------------------------------\n",
      "Residual sum of squares:                                       575578100080.342\n",
      "Effective number of parameters (trace(S)):                           95.807\n",
      "Degree of freedom (n - trace(S)):                                  1109.193\n",
      "Sigma estimate:                                                   22779.731\n",
      "Log-likelihood:                                                  -13750.425\n",
      "AIC:                                                              27694.465\n",
      "AICc:                                                             27711.569\n",
      "BIC:                                                              28187.623\n",
      "R2:                                                                   0.531\n",
      "Adjusted R2:                                                          0.491\n",
      "Adj. alpha (95%):                                                     0.002\n",
      "Adj. critical t value (95%):                                          3.084\n",
      "\n",
      "Summary Statistics For GWR Parameter Estimates\n",
      "---------------------------------------------------------------------------\n",
      "Variable                   Mean        STD        Min     Median        Max\n",
      "-------------------- ---------- ---------- ---------- ---------- ----------\n",
      "X0                    18300.832  22760.607   2089.605  11703.756 124591.113\n",
      "X1                       -0.058      0.269     -1.276      0.002      0.384\n",
      "X2                        0.024      0.330     -0.661     -0.013      1.943\n",
      "X3                        0.037      0.290     -0.444     -0.013      1.082\n",
      "===========================================================================\n",
      "\n"
     ]
    }
   ],
   "source": [
    "gwr_bw = 118.0\n",
    "gwr_results = GWR(coords, y, X, gwr_bw).fit()\n",
    "gwr_results.summary()"
   ]
  },
  {
   "cell_type": "code",
   "execution_count": null,
   "metadata": {},
   "outputs": [],
   "source": []
  }
 ],
 "metadata": {
  "kernelspec": {
   "display_name": "pb_can_39",
   "language": "python",
   "name": "python3"
  },
  "language_info": {
   "codemirror_mode": {
    "name": "ipython",
    "version": 3
   },
   "file_extension": ".py",
   "mimetype": "text/x-python",
   "name": "python",
   "nbconvert_exporter": "python",
   "pygments_lexer": "ipython3",
   "version": "3.9.17"
  },
  "orig_nbformat": 4
 },
 "nbformat": 4,
 "nbformat_minor": 2
}
