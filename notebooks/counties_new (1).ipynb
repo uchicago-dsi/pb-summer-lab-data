{
 "cells": [
  {
   "cell_type": "code",
   "execution_count": null,
   "id": "130226b9-170a-4e50-8c00-d09221800cfe",
   "metadata": {
    "tags": []
   },
   "outputs": [],
   "source": [
    "import pandas as pd\n",
    "import geopandas as gpd\n",
    "import matplotlib.pyplot as plt\n",
    "import numpy as np\n",
    "import folium\n",
    "import seaborn as sns\n",
    "import plotly.express as px\n",
    "import pyarrow.parquet as pq\n",
    "import matplotlib.patches as mpatches"
   ]
  },
  {
   "cell_type": "code",
   "execution_count": null,
   "id": "407d7d48-711c-4d56-8bc0-f7f93728b2e1",
   "metadata": {
    "tags": []
   },
   "outputs": [],
   "source": [
    "vision_providers_minimal = pq.read_table(source='../data/vision_providers_minimal.parquet').to_pandas()\n",
    "vision_providers_minimal"
   ]
  },
  {
   "cell_type": "code",
   "execution_count": null,
   "id": "f6ae61c3-cfc3-4186-a17b-9f1cbd506cfb",
   "metadata": {
    "tags": []
   },
   "outputs": [],
   "source": [
    "counties = gpd.read_file(\"/srv/data/my_shared_data_folder/pb-data/county.gpkg\")\n",
    "counties"
   ]
  },
  {
   "cell_type": "code",
   "execution_count": null,
   "id": "0362e515-b484-41c2-a01b-244b1f9d5ea5",
   "metadata": {
    "tags": []
   },
   "outputs": [],
   "source": [
    "vision_providers_minimal = vision_providers_minimal[vision_providers_minimal[\"Entity Type Code\"] == 1].reset_index(drop=True)\n",
    "vision_providers_minimal"
   ]
  },
  {
   "cell_type": "code",
   "execution_count": null,
   "id": "28485640-d64c-4b91-b348-3c115a71f8ee",
   "metadata": {
    "tags": []
   },
   "outputs": [],
   "source": [
    "vision_providers_minimal = gpd.GeoDataFrame(vision_providers_minimal, geometry=gpd.points_from_xy(vision_providers_minimal.Longitude, vision_providers_minimal.Latitude), crs=\"EPSG:4326\")\n",
    "vision_providers_minimal"
   ]
  },
  {
   "cell_type": "code",
   "execution_count": null,
   "id": "133a45a5-6ab5-4490-aaee-57386fe00d64",
   "metadata": {
    "tags": []
   },
   "outputs": [],
   "source": [
    "counties = counties.to_crs(vision_providers_minimal.crs)\n",
    "\n",
    "joined = gpd.sjoin(vision_providers_minimal, counties, predicate='within')\n",
    "joined"
   ]
  },
  {
   "cell_type": "code",
   "execution_count": null,
   "id": "ffc58c2f-d895-482a-a44f-18aea397f59c",
   "metadata": {
    "tags": []
   },
   "outputs": [],
   "source": [
    "joined['Optometry'] = joined['Taxonomy'].apply(lambda x: any(code.startswith('152') for code in x.split('|')))\n",
    "joined['Ophthalmology'] = joined['Taxonomy'].apply(lambda x: any(code.startswith('207') for code in x.split('|')))\n",
    "joined['Others'] = joined['Taxonomy'].apply(lambda x: any(code.startswith('156') for code in x.split('|')))\n",
    "\n",
    "joined"
   ]
  },
  {
   "cell_type": "code",
   "execution_count": null,
   "id": "a5256441-8f64-47a4-89b1-7d7e3262459e",
   "metadata": {
    "tags": []
   },
   "outputs": [],
   "source": [
    "grouped = joined.groupby('GEOID')[['Optometry', 'Ophthalmology', 'Others']].sum().reset_index()\n",
    "grouped"
   ]
  },
  {
   "cell_type": "code",
   "execution_count": null,
   "id": "9f1ae03e-9fb7-4304-82ac-ac88cb123d8c",
   "metadata": {
    "tags": []
   },
   "outputs": [],
   "source": [
    "grouped_geo = pd.merge(counties, grouped, how='left', left_on='GEOID', right_on='GEOID').reset_index(drop=True)\n",
    "grouped_geo['Total_Providers'] = grouped_geo['Optometry'] + grouped_geo['Ophthalmology'] + grouped_geo['Others']\n",
    "\n",
    "grouped_geo['Optometry'].fillna(0, inplace=True)\n",
    "grouped_geo['Ophthalmology'].fillna(0, inplace=True)\n",
    "grouped_geo['Others'].fillna(0, inplace=True)\n",
    "grouped_geo['Total_Providers'].fillna(0, inplace=True)\n",
    "\n",
    "grouped_geo = grouped_geo.astype({'Optometry': 'int', 'Ophthalmology': 'int', 'Others': 'int', 'Total_Providers': 'int'})\n",
    "\n",
    "grouped_geo"
   ]
  },
  {
   "cell_type": "code",
   "execution_count": null,
   "id": "00294f7a-a174-4b65-bdab-64707aea21ce",
   "metadata": {
    "tags": []
   },
   "outputs": [],
   "source": [
    "grouped_geo.to_csv('counties_counts.csv', index=False)"
   ]
  },
  {
   "cell_type": "code",
   "execution_count": null,
   "id": "eb1f89a1-a802-4fa0-876a-905896737b39",
   "metadata": {
    "tags": []
   },
   "outputs": [],
   "source": [
    "grouped_geo_OK = grouped_geo[grouped_geo[\"STATEFP\"] == '40'].reset_index(drop=True)\n",
    "grouped_geo_OK"
   ]
  },
  {
   "cell_type": "code",
   "execution_count": null,
   "id": "eb054f87-cd7b-4c1e-a8ed-a2046a60822b",
   "metadata": {
    "tags": []
   },
   "outputs": [],
   "source": [
    "grouped_geo_IL = grouped_geo[grouped_geo[\"STATEFP\"] == '17'].reset_index(drop=True)\n",
    "grouped_geo_IL"
   ]
  },
  {
   "cell_type": "code",
   "execution_count": null,
   "id": "21fe9df7-eaf4-4254-bc8e-a03e555b6e1e",
   "metadata": {
    "tags": []
   },
   "outputs": [],
   "source": [
    "grouped_geo_IL.to_csv('counties_counts_IL.csv', index=False)"
   ]
  },
  {
   "cell_type": "code",
   "execution_count": null,
   "id": "4bdc4caa-3068-420c-a395-a1cdf09a6675",
   "metadata": {
    "tags": []
   },
   "outputs": [],
   "source": [
    "fig, ax = plt.subplots(figsize=(10, 4))\n",
    "\n",
    "grouped_geo_OK = grouped_geo[grouped_geo[\"STATEFP\"] == '40'].reset_index(drop=True)\n",
    "\n",
    "grouped_geo_OK.plot(column='Total_Providers', \n",
    "               cmap='Reds', \n",
    "               linewidth=0.8, \n",
    "               ax=ax, \n",
    "               edgecolor='0.8',\n",
    "               legend=True,\n",
    "               missing_kwds={'color': 'lightgrey'})\n",
    "\n",
    "ax.set_xlabel('Longitude')\n",
    "ax.set_ylabel('Latitude')\n",
    "\n",
    "\n",
    "\n",
    "plt.title('Oklahoma: Providers by Tract')\n",
    "plt.show()"
   ]
  },
  {
   "cell_type": "code",
   "execution_count": null,
   "id": "fae2a963-5f71-4f55-9a30-b50833256970",
   "metadata": {
    "tags": []
   },
   "outputs": [],
   "source": [
    "grouped_geo_OK['INTPTLAT'] = pd.to_numeric(grouped_geo_OK['INTPTLAT'], errors='coerce')\n",
    "grouped_geo_OK['INTPTLON'] = pd.to_numeric(grouped_geo_OK['INTPTLON'], errors='coerce')\n",
    "\n",
    "fig = px.choropleth_mapbox(grouped_geo_OK, \n",
    "                           geojson = grouped_geo_OK.geometry, \n",
    "                           locations = grouped_geo_OK.index, \n",
    "                           color = 'Total_Providers',\n",
    "                           color_continuous_scale = \"greens\",\n",
    "                           mapbox_style = \"carto-positron\",\n",
    "                           zoom = 5, \n",
    "                           center = {\"lat\": grouped_geo_OK.INTPTLAT.mean(), \"lon\": grouped_geo_OK.INTPTLON.mean()},\n",
    "                           opacity = 0.8,\n",
    "                           hover_data = [\"NAMELSAD\"],\n",
    "                           labels = {\"Total_Providers\":'Total Providers'}\n",
    "                          )\n",
    "\n",
    "fig.update_layout(margin = {\"r\":0,\"t\":0,\"l\":0,\"b\":0})\n",
    "\n",
    "fig.show()\n"
   ]
  },
  {
   "cell_type": "code",
   "execution_count": null,
   "id": "e2fdb3c0-e61b-4263-9964-932c9f6bb902",
   "metadata": {
    "tags": []
   },
   "outputs": [],
   "source": [
    "from libpysal import weights\n",
    "\n",
    "w = weights.Queen.from_dataframe(grouped_geo_IL)\n",
    "\n",
    "# Standardize the weights matrix so that the weights of each location's neighbors sum to 1.\n",
    "w.transform = 'R'\n",
    "\n",
    "# Calculate the spatial lag of the Total Providers count.\n",
    "grouped_geo_IL['lag_Total_Providers'] = weights.lag_spatial(w, grouped_geo_IL['Total_Providers'])\n",
    "grouped_geo_IL"
   ]
  },
  {
   "cell_type": "code",
   "execution_count": null,
   "id": "33b0fe49-829e-47ae-93d2-df7fa548ee7a",
   "metadata": {
    "tags": []
   },
   "outputs": [],
   "source": [
    "from pysal.explore import esda\n",
    "\n",
    "y = grouped_geo_IL['Total_Providers']\n",
    "\n",
    "# Compute the spatial lag of your variable\n",
    "ylag = weights.lag_spatial(w, y)\n",
    "\n",
    "# Compute local Moran's I, which gives us our LISA statistics\n",
    "lisa = esda.Moran_Local(y, w)\n",
    "\n",
    "# Create a new column in your GeoDataFrame for the LISA values\n",
    "grouped_geo_IL['lisa_values'] = lisa.Is\n",
    "\n",
    "# Plot the LISA values\n",
    "fig, ax = plt.subplots(figsize=(12,10))\n",
    "grouped_geo_IL.plot(column='lisa_values', scheme='quantiles', cmap='Reds', legend=True, ax=ax)\n",
    "plt.show()\n"
   ]
  },
  {
   "cell_type": "code",
   "execution_count": null,
   "id": "979628e6-a445-4968-b38d-105e827f3f58",
   "metadata": {
    "tags": []
   },
   "outputs": [],
   "source": [
    "# Define the significance level, for example, 0.05\n",
    "alpha = 0.05\n",
    "\n",
    "# Create a binary variable indicating whether the p-value is less than alpha\n",
    "# These are your significant clusters\n",
    "grouped_geo_IL['significant_clusters'] = lisa.p_sim < alpha\n",
    "\n",
    "# Plot the significant clusters\n",
    "fig, ax = plt.subplots(figsize=(12,10))\n",
    "grouped_geo_IL.plot(column='significant_clusters', legend=True, ax=ax)\n",
    "plt.show()\n"
   ]
  },
  {
   "cell_type": "code",
   "execution_count": null,
   "id": "d9d2696c-8444-4cc3-bd73-2aa5dfc644b0",
   "metadata": {
    "tags": []
   },
   "outputs": [],
   "source": [
    "# Create a variable for the type of spatial pattern\n",
    "grouped_geo_IL['lisa_type'] = 'Not significant'\n",
    "grouped_geo_IL.loc[(lisa.q==1) & (lisa.p_sim < alpha), 'lisa_type'] = 'High-High'\n",
    "grouped_geo_IL.loc[(lisa.q==2) & (lisa.p_sim < alpha), 'lisa_type'] = 'Low-High'\n",
    "grouped_geo_IL.loc[(lisa.q==3) & (lisa.p_sim < alpha), 'lisa_type'] = 'Low-Low'\n",
    "grouped_geo_IL.loc[(lisa.q==4) & (lisa.p_sim < alpha), 'lisa_type'] = 'High-Low'\n",
    "grouped_geo_IL"
   ]
  },
  {
   "cell_type": "code",
   "execution_count": null,
   "id": "6599257b-9a26-4f7a-bc37-6bd738de0899",
   "metadata": {},
   "outputs": [],
   "source": [
    "grouped_geo_IL.to_csv('counties__IL.csv', index=False)"
   ]
  },
  {
   "cell_type": "code",
   "execution_count": null,
   "id": "a222821a-d641-4d98-b2b6-56677a019ae2",
   "metadata": {
    "tags": []
   },
   "outputs": [],
   "source": [
    "fig, ax = plt.subplots(figsize=(10, 4))\n",
    "\n",
    "#tracts_OK.plot(color='lightgrey', ax=ax, edgecolor='grey')  \n",
    "\n",
    "grouped_geo_OK.plot(column='lag_Total_Providers', \n",
    "               cmap='Reds', \n",
    "               linewidth=0.8, \n",
    "               ax=ax, \n",
    "               edgecolor='0.8',\n",
    "               #scheme='quantiles',\n",
    "               legend=True,\n",
    "               missing_kwds={'color': 'lightgrey'})\n",
    "\n",
    "ax.set_xlabel('Longitude')\n",
    "ax.set_ylabel('Latitude')\n",
    "\n",
    "plt.title('Illinois: Lag Providers by Tract')\n",
    "plt.show()"
   ]
  },
  {
   "cell_type": "code",
   "execution_count": null,
   "id": "3b982d69-3ed5-4c11-accd-3f32f5e71179",
   "metadata": {},
   "outputs": [],
   "source": []
  },
  {
   "cell_type": "code",
   "execution_count": null,
   "id": "efa36db5-885f-4a98-88aa-b4ac8a9080e2",
   "metadata": {
    "tags": []
   },
   "outputs": [],
   "source": [
    "grouped_geo_IL = grouped_geo[grouped_geo[\"STATEFP\"] == '17'].reset_index(drop=True)\n",
    "\n",
    "grouped_geo_IL['INTPTLAT'] = pd.to_numeric(grouped_geo_IL['INTPTLAT'], errors='coerce')\n",
    "grouped_geo_IL['INTPTLON'] = pd.to_numeric(grouped_geo_IL['INTPTLON'], errors='coerce')\n",
    "\n",
    "fig = px.choropleth_mapbox(grouped_geo_IL, \n",
    "                           geojson = grouped_geo_IL.geometry, \n",
    "                           locations = grouped_geo_IL.index, \n",
    "                           color = 'Total_Providers',\n",
    "                           color_continuous_scale = \"greens\",\n",
    "                           mapbox_style = \"carto-positron\",\n",
    "                           zoom = 5, \n",
    "                           center = {\"lat\": grouped_geo_IL.INTPTLAT.mean(), \"lon\": grouped_geo_IL.INTPTLON.mean()},\n",
    "                           opacity = 0.8,\n",
    "                           hover_data = [\"NAMELSAD\"],\n",
    "                           labels = {\"Total_Providers\":'Total Providers'}\n",
    "                          )\n",
    "\n",
    "fig.update_layout(margin = {\"r\":0,\"t\":0,\"l\":0,\"b\":0})\n",
    "\n",
    "fig.show()\n"
   ]
  }
 ],
 "metadata": {
  "kernelspec": {
   "display_name": "Python 3 (ipykernel)",
   "language": "python",
   "name": "python3"
  },
  "language_info": {
   "codemirror_mode": {
    "name": "ipython",
    "version": 3
   },
   "file_extension": ".py",
   "mimetype": "text/x-python",
   "name": "python",
   "nbconvert_exporter": "python",
   "pygments_lexer": "ipython3",
   "version": "3.9.7"
  }
 },
 "nbformat": 4,
 "nbformat_minor": 5
}
