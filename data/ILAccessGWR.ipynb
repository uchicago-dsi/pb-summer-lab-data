{
 "cells": [
  {
   "cell_type": "markdown",
   "id": "572f62b6-85ce-43bd-a614-26f39b4286f0",
   "metadata": {},
   "source": [
    "In this notebook we conducted GWR and MGWR regression models on our data for the entirety of the state of Illinois specifically.\n",
    "\n",
    "The models are identical in variables, the only difference is the regression type. Both models utilize the accessibility score of each census tract within Illinois as the dependent variable. Meanwhile the independent variables are the percent white population, median household income, and percent with a bachelors degree or higher in each respective census tract.\n",
    "\n",
    "The results from this model are quite impactful, yet the limitations from UChicago utilizing inefficient servers for programming make the results of the MGWR model in particular largely innaccessible. For better visualization of the output of this data, please refer to our poster and/or presentations, since these are the results accessible through software UChicago has ignorantly chosen not to provide its research assistants, ArcPro."
   ]
  },
  {
   "cell_type": "code",
   "execution_count": 1,
   "id": "bd1d2ec3-f07e-41ec-8a60-60cbba776733",
   "metadata": {
    "tags": []
   },
   "outputs": [],
   "source": [
    "import geopandas as gpd\n",
    "import pandas as pd\n",
    "#read in for plots\n",
    "import pyarrow.parquet as pq\n",
    "#to read vision Providers\n",
    "import geodatasets\n",
    "import folium\n",
    "import numpy as np\n",
    "pd.set_option('display.max_columns', None)"
   ]
  },
  {
   "cell_type": "code",
   "execution_count": 2,
   "id": "56d29ba6-c6db-4c38-9fd3-713554ed0208",
   "metadata": {
    "tags": []
   },
   "outputs": [],
   "source": [
    "import matplotlib.pyplot as plt\n",
    "from matplotlib.ticker import FormatStrFormatter\n",
    "from pylab import rcParams\n",
    "import matplotlib as mpl\n",
    "mpl.rcParams['figure.dpi'] = 72"
   ]
  },
  {
   "cell_type": "code",
   "execution_count": 3,
   "id": "d14615f5-00b0-4c84-bf8c-365b44b17cd2",
   "metadata": {
    "tags": []
   },
   "outputs": [],
   "source": [
    "import seaborn as sns\n",
    "sns.set_style(\"darkgrid\")\n",
    "sns.set_context(context=\"paper\", font_scale=1.5, rc=None)\n",
    "sns.set(font=\"serif\")"
   ]
  },
  {
   "cell_type": "code",
   "execution_count": 4,
   "id": "c6617301-4fad-45e3-9ac6-cca6910d6e76",
   "metadata": {
    "tags": []
   },
   "outputs": [],
   "source": [
    "import plotly.express as px\n",
    "import plotly.graph_objects as go"
   ]
  },
  {
   "cell_type": "code",
   "execution_count": 5,
   "id": "c66aaef5-5b0e-4f0b-94ae-351e1579f50d",
   "metadata": {
    "tags": []
   },
   "outputs": [
    {
     "name": "stderr",
     "output_type": "stream",
     "text": [
      "/opt/tljh/user/lib/python3.9/site-packages/libpysal/cg/alpha_shapes.py:39: NumbaDeprecationWarning: \u001b[1mThe 'nopython' keyword argument was not supplied to the 'numba.jit' decorator. The implicit default value for this argument is currently False, but it will be changed to True in Numba 0.59.0. See https://numba.readthedocs.io/en/stable/reference/deprecation.html#deprecation-of-object-mode-fall-back-behaviour-when-using-jit for details.\u001b[0m\n",
      "  def nb_dist(x, y):\n",
      "/opt/tljh/user/lib/python3.9/site-packages/libpysal/cg/alpha_shapes.py:165: NumbaDeprecationWarning: \u001b[1mThe 'nopython' keyword argument was not supplied to the 'numba.jit' decorator. The implicit default value for this argument is currently False, but it will be changed to True in Numba 0.59.0. See https://numba.readthedocs.io/en/stable/reference/deprecation.html#deprecation-of-object-mode-fall-back-behaviour-when-using-jit for details.\u001b[0m\n",
      "  def get_faces(triangle):\n",
      "/opt/tljh/user/lib/python3.9/site-packages/libpysal/cg/alpha_shapes.py:199: NumbaDeprecationWarning: \u001b[1mThe 'nopython' keyword argument was not supplied to the 'numba.jit' decorator. The implicit default value for this argument is currently False, but it will be changed to True in Numba 0.59.0. See https://numba.readthedocs.io/en/stable/reference/deprecation.html#deprecation-of-object-mode-fall-back-behaviour-when-using-jit for details.\u001b[0m\n",
      "  def build_faces(faces, triangles_is, num_triangles, num_faces_single):\n",
      "/opt/tljh/user/lib/python3.9/site-packages/libpysal/cg/alpha_shapes.py:261: NumbaDeprecationWarning: \u001b[1mThe 'nopython' keyword argument was not supplied to the 'numba.jit' decorator. The implicit default value for this argument is currently False, but it will be changed to True in Numba 0.59.0. See https://numba.readthedocs.io/en/stable/reference/deprecation.html#deprecation-of-object-mode-fall-back-behaviour-when-using-jit for details.\u001b[0m\n",
      "  def nb_mask_faces(mask, faces):\n"
     ]
    }
   ],
   "source": [
    "import libpysal as ps\n",
    "from libpysal  import weights\n",
    "from libpysal.weights import Queen"
   ]
  },
  {
   "cell_type": "code",
   "execution_count": 6,
   "id": "aa4592b7-1e34-4b66-9e49-223488a904f8",
   "metadata": {
    "tags": []
   },
   "outputs": [],
   "source": [
    "import esda\n",
    "from esda.moran import Moran, Moran_Local"
   ]
  },
  {
   "cell_type": "code",
   "execution_count": 7,
   "id": "89444daa-9ba7-4d92-b0cc-c6843fa29298",
   "metadata": {
    "tags": []
   },
   "outputs": [],
   "source": [
    "import splot\n",
    "from splot.esda import moran_scatterplot, plot_moran, lisa_cluster, plot_local_autocorrelation\n",
    "from splot.libpysal import plot_spatial_weights"
   ]
  },
  {
   "cell_type": "code",
   "execution_count": 8,
   "id": "5407e004-f963-4230-a005-89b1fbc5924b",
   "metadata": {
    "tags": []
   },
   "outputs": [],
   "source": [
    "from giddy.directional import Rose"
   ]
  },
  {
   "cell_type": "code",
   "execution_count": 9,
   "id": "a7b20464-5b61-4ddd-abf4-7f937887668e",
   "metadata": {
    "tags": []
   },
   "outputs": [],
   "source": [
    "import statsmodels.api as sm\n",
    "import statsmodels.formula.api as smf"
   ]
  },
  {
   "cell_type": "code",
   "execution_count": 10,
   "id": "114274ab-e421-4f9d-b7a6-62335b5cfbd8",
   "metadata": {
    "tags": []
   },
   "outputs": [],
   "source": [
    "from spreg import OLS\n",
    "from spreg import MoranRes\n",
    "from spreg import ML_Lag\n",
    "from spreg import ML_Error "
   ]
  },
  {
   "cell_type": "code",
   "execution_count": 11,
   "id": "f9ae02d0-a747-47cc-abd0-fa25dd1c8253",
   "metadata": {
    "tags": []
   },
   "outputs": [],
   "source": [
    "from mgwr.gwr import GWR, MGWR\n",
    "from mgwr.sel_bw import Sel_BW\n",
    "from mgwr.utils import shift_colormap, truncate_colormap"
   ]
  },
  {
   "cell_type": "code",
   "execution_count": 12,
   "id": "fea3cf17-972d-4116-921a-24d7d00ac32c",
   "metadata": {
    "tags": []
   },
   "outputs": [],
   "source": [
    "import warnings\n",
    "warnings.filterwarnings('ignore') \n",
    "import time"
   ]
  },
  {
   "cell_type": "code",
   "execution_count": 13,
   "id": "8770bcd9-b6f7-4d71-816b-73b054405938",
   "metadata": {
    "tags": []
   },
   "outputs": [],
   "source": [
    "#Read in census tract Info and boundaries\n",
    "censusTract = gpd.read_file(\"../Geospatial/ILCensusTracts.zip\")"
   ]
  },
  {
   "cell_type": "code",
   "execution_count": 14,
   "id": "29e9bac6-3bf3-488b-be03-edd7653a40e5",
   "metadata": {
    "tags": []
   },
   "outputs": [
    {
     "data": {
      "text/html": [
       "<div>\n",
       "<style scoped>\n",
       "    .dataframe tbody tr th:only-of-type {\n",
       "        vertical-align: middle;\n",
       "    }\n",
       "\n",
       "    .dataframe tbody tr th {\n",
       "        vertical-align: top;\n",
       "    }\n",
       "\n",
       "    .dataframe thead th {\n",
       "        text-align: right;\n",
       "    }\n",
       "</style>\n",
       "<table border=\"1\" class=\"dataframe\">\n",
       "  <thead>\n",
       "    <tr style=\"text-align: right;\">\n",
       "      <th></th>\n",
       "      <th>STATEFP</th>\n",
       "      <th>COUNTYFP</th>\n",
       "      <th>TRACTCE</th>\n",
       "      <th>GEOID</th>\n",
       "      <th>NAME</th>\n",
       "      <th>NAMELSAD</th>\n",
       "      <th>MTFCC</th>\n",
       "      <th>FUNCSTAT</th>\n",
       "      <th>ALAND</th>\n",
       "      <th>AWATER</th>\n",
       "      <th>INTPTLAT</th>\n",
       "      <th>INTPTLON</th>\n",
       "      <th>geometry</th>\n",
       "    </tr>\n",
       "  </thead>\n",
       "  <tbody>\n",
       "    <tr>\n",
       "      <th>0</th>\n",
       "      <td>17</td>\n",
       "      <td>031</td>\n",
       "      <td>510300</td>\n",
       "      <td>17031510300</td>\n",
       "      <td>5103</td>\n",
       "      <td>Census Tract 5103</td>\n",
       "      <td>G5020</td>\n",
       "      <td>S</td>\n",
       "      <td>2958348</td>\n",
       "      <td>0</td>\n",
       "      <td>+41.7157373</td>\n",
       "      <td>-087.5749771</td>\n",
       "      <td>POLYGON ((-87.58745 41.72327, -87.58699 41.723...</td>\n",
       "    </tr>\n",
       "    <tr>\n",
       "      <th>1</th>\n",
       "      <td>17</td>\n",
       "      <td>031</td>\n",
       "      <td>520100</td>\n",
       "      <td>17031520100</td>\n",
       "      <td>5201</td>\n",
       "      <td>Census Tract 5201</td>\n",
       "      <td>G5020</td>\n",
       "      <td>S</td>\n",
       "      <td>2581898</td>\n",
       "      <td>521681</td>\n",
       "      <td>+41.7211184</td>\n",
       "      <td>-087.5294325</td>\n",
       "      <td>POLYGON ((-87.54292 41.72391, -87.54276 41.724...</td>\n",
       "    </tr>\n",
       "    <tr>\n",
       "      <th>2</th>\n",
       "      <td>17</td>\n",
       "      <td>097</td>\n",
       "      <td>863006</td>\n",
       "      <td>17097863006</td>\n",
       "      <td>8630.06</td>\n",
       "      <td>Census Tract 8630.06</td>\n",
       "      <td>G5020</td>\n",
       "      <td>S</td>\n",
       "      <td>207264</td>\n",
       "      <td>0</td>\n",
       "      <td>+42.3003410</td>\n",
       "      <td>-087.8538353</td>\n",
       "      <td>POLYGON ((-87.85621 42.29921, -87.85604 42.299...</td>\n",
       "    </tr>\n",
       "    <tr>\n",
       "      <th>3</th>\n",
       "      <td>17</td>\n",
       "      <td>097</td>\n",
       "      <td>863004</td>\n",
       "      <td>17097863004</td>\n",
       "      <td>8630.04</td>\n",
       "      <td>Census Tract 8630.04</td>\n",
       "      <td>G5020</td>\n",
       "      <td>S</td>\n",
       "      <td>4440910</td>\n",
       "      <td>0</td>\n",
       "      <td>+42.3046642</td>\n",
       "      <td>-087.8642654</td>\n",
       "      <td>POLYGON ((-87.87635 42.30871, -87.87565 42.308...</td>\n",
       "    </tr>\n",
       "    <tr>\n",
       "      <th>4</th>\n",
       "      <td>17</td>\n",
       "      <td>097</td>\n",
       "      <td>866200</td>\n",
       "      <td>17097866200</td>\n",
       "      <td>8662</td>\n",
       "      <td>Census Tract 8662</td>\n",
       "      <td>G5020</td>\n",
       "      <td>S</td>\n",
       "      <td>32717452</td>\n",
       "      <td>584438</td>\n",
       "      <td>+42.2360556</td>\n",
       "      <td>-087.9107093</td>\n",
       "      <td>POLYGON ((-87.94467 42.24049, -87.94088 42.240...</td>\n",
       "    </tr>\n",
       "    <tr>\n",
       "      <th>...</th>\n",
       "      <td>...</td>\n",
       "      <td>...</td>\n",
       "      <td>...</td>\n",
       "      <td>...</td>\n",
       "      <td>...</td>\n",
       "      <td>...</td>\n",
       "      <td>...</td>\n",
       "      <td>...</td>\n",
       "      <td>...</td>\n",
       "      <td>...</td>\n",
       "      <td>...</td>\n",
       "      <td>...</td>\n",
       "      <td>...</td>\n",
       "    </tr>\n",
       "    <tr>\n",
       "      <th>3260</th>\n",
       "      <td>17</td>\n",
       "      <td>199</td>\n",
       "      <td>020801</td>\n",
       "      <td>17199020801</td>\n",
       "      <td>208.01</td>\n",
       "      <td>Census Tract 208.01</td>\n",
       "      <td>G5020</td>\n",
       "      <td>S</td>\n",
       "      <td>153192395</td>\n",
       "      <td>1647960</td>\n",
       "      <td>+37.8133870</td>\n",
       "      <td>-088.8121922</td>\n",
       "      <td>POLYGON ((-88.90260 37.86239, -88.90172 37.862...</td>\n",
       "    </tr>\n",
       "    <tr>\n",
       "      <th>3261</th>\n",
       "      <td>17</td>\n",
       "      <td>199</td>\n",
       "      <td>021001</td>\n",
       "      <td>17199021001</td>\n",
       "      <td>210.01</td>\n",
       "      <td>Census Tract 210.01</td>\n",
       "      <td>G5020</td>\n",
       "      <td>S</td>\n",
       "      <td>3743510</td>\n",
       "      <td>1762</td>\n",
       "      <td>+37.7427576</td>\n",
       "      <td>-088.9344534</td>\n",
       "      <td>POLYGON ((-88.94208 37.75568, -88.94123 37.755...</td>\n",
       "    </tr>\n",
       "    <tr>\n",
       "      <th>3262</th>\n",
       "      <td>17</td>\n",
       "      <td>199</td>\n",
       "      <td>021003</td>\n",
       "      <td>17199021003</td>\n",
       "      <td>210.03</td>\n",
       "      <td>Census Tract 210.03</td>\n",
       "      <td>G5020</td>\n",
       "      <td>S</td>\n",
       "      <td>4058483</td>\n",
       "      <td>83663</td>\n",
       "      <td>+37.7435760</td>\n",
       "      <td>-088.9498758</td>\n",
       "      <td>POLYGON ((-88.95898 37.73663, -88.95898 37.736...</td>\n",
       "    </tr>\n",
       "    <tr>\n",
       "      <th>3263</th>\n",
       "      <td>17</td>\n",
       "      <td>091</td>\n",
       "      <td>011700</td>\n",
       "      <td>17091011700</td>\n",
       "      <td>117</td>\n",
       "      <td>Census Tract 117</td>\n",
       "      <td>G5020</td>\n",
       "      <td>S</td>\n",
       "      <td>2373268</td>\n",
       "      <td>102060</td>\n",
       "      <td>+41.1294653</td>\n",
       "      <td>-087.8735796</td>\n",
       "      <td>POLYGON ((-87.88768 41.13594, -87.88764 41.136...</td>\n",
       "    </tr>\n",
       "    <tr>\n",
       "      <th>3264</th>\n",
       "      <td>17</td>\n",
       "      <td>091</td>\n",
       "      <td>011800</td>\n",
       "      <td>17091011800</td>\n",
       "      <td>118</td>\n",
       "      <td>Census Tract 118</td>\n",
       "      <td>G5020</td>\n",
       "      <td>S</td>\n",
       "      <td>1791094</td>\n",
       "      <td>55670</td>\n",
       "      <td>+41.1403452</td>\n",
       "      <td>-087.8760059</td>\n",
       "      <td>POLYGON ((-87.89410 41.14388, -87.89400 41.143...</td>\n",
       "    </tr>\n",
       "  </tbody>\n",
       "</table>\n",
       "<p>3265 rows × 13 columns</p>\n",
       "</div>"
      ],
      "text/plain": [
       "     STATEFP COUNTYFP TRACTCE        GEOID     NAME              NAMELSAD  \\\n",
       "0         17      031  510300  17031510300     5103     Census Tract 5103   \n",
       "1         17      031  520100  17031520100     5201     Census Tract 5201   \n",
       "2         17      097  863006  17097863006  8630.06  Census Tract 8630.06   \n",
       "3         17      097  863004  17097863004  8630.04  Census Tract 8630.04   \n",
       "4         17      097  866200  17097866200     8662     Census Tract 8662   \n",
       "...      ...      ...     ...          ...      ...                   ...   \n",
       "3260      17      199  020801  17199020801   208.01   Census Tract 208.01   \n",
       "3261      17      199  021001  17199021001   210.01   Census Tract 210.01   \n",
       "3262      17      199  021003  17199021003   210.03   Census Tract 210.03   \n",
       "3263      17      091  011700  17091011700      117      Census Tract 117   \n",
       "3264      17      091  011800  17091011800      118      Census Tract 118   \n",
       "\n",
       "      MTFCC FUNCSTAT      ALAND   AWATER     INTPTLAT      INTPTLON  \\\n",
       "0     G5020        S    2958348        0  +41.7157373  -087.5749771   \n",
       "1     G5020        S    2581898   521681  +41.7211184  -087.5294325   \n",
       "2     G5020        S     207264        0  +42.3003410  -087.8538353   \n",
       "3     G5020        S    4440910        0  +42.3046642  -087.8642654   \n",
       "4     G5020        S   32717452   584438  +42.2360556  -087.9107093   \n",
       "...     ...      ...        ...      ...          ...           ...   \n",
       "3260  G5020        S  153192395  1647960  +37.8133870  -088.8121922   \n",
       "3261  G5020        S    3743510     1762  +37.7427576  -088.9344534   \n",
       "3262  G5020        S    4058483    83663  +37.7435760  -088.9498758   \n",
       "3263  G5020        S    2373268   102060  +41.1294653  -087.8735796   \n",
       "3264  G5020        S    1791094    55670  +41.1403452  -087.8760059   \n",
       "\n",
       "                                               geometry  \n",
       "0     POLYGON ((-87.58745 41.72327, -87.58699 41.723...  \n",
       "1     POLYGON ((-87.54292 41.72391, -87.54276 41.724...  \n",
       "2     POLYGON ((-87.85621 42.29921, -87.85604 42.299...  \n",
       "3     POLYGON ((-87.87635 42.30871, -87.87565 42.308...  \n",
       "4     POLYGON ((-87.94467 42.24049, -87.94088 42.240...  \n",
       "...                                                 ...  \n",
       "3260  POLYGON ((-88.90260 37.86239, -88.90172 37.862...  \n",
       "3261  POLYGON ((-88.94208 37.75568, -88.94123 37.755...  \n",
       "3262  POLYGON ((-88.95898 37.73663, -88.95898 37.736...  \n",
       "3263  POLYGON ((-87.88768 41.13594, -87.88764 41.136...  \n",
       "3264  POLYGON ((-87.89410 41.14388, -87.89400 41.143...  \n",
       "\n",
       "[3265 rows x 13 columns]"
      ]
     },
     "execution_count": 14,
     "metadata": {},
     "output_type": "execute_result"
    }
   ],
   "source": [
    "censusTract"
   ]
  },
  {
   "cell_type": "code",
   "execution_count": 15,
   "id": "7fa06a1c-b6e9-4c1a-9a1e-44737e4b624f",
   "metadata": {
    "tags": []
   },
   "outputs": [],
   "source": [
    "#Read in coverage score information for each census tract in IL\n",
    "coverage = pd.read_csv(\"../IL Work/ILcensus_coveragescore.csv\")"
   ]
  },
  {
   "cell_type": "code",
   "execution_count": 16,
   "id": "448b7088-d9e0-4e7a-9840-be450972e39d",
   "metadata": {
    "tags": []
   },
   "outputs": [
    {
     "data": {
      "text/html": [
       "<div>\n",
       "<style scoped>\n",
       "    .dataframe tbody tr th:only-of-type {\n",
       "        vertical-align: middle;\n",
       "    }\n",
       "\n",
       "    .dataframe tbody tr th {\n",
       "        vertical-align: top;\n",
       "    }\n",
       "\n",
       "    .dataframe thead th {\n",
       "        text-align: right;\n",
       "    }\n",
       "</style>\n",
       "<table border=\"1\" class=\"dataframe\">\n",
       "  <thead>\n",
       "    <tr style=\"text-align: right;\">\n",
       "      <th></th>\n",
       "      <th>Unnamed: 0</th>\n",
       "      <th>STATEFP</th>\n",
       "      <th>COUNTYFP</th>\n",
       "      <th>TRACTCE</th>\n",
       "      <th>GEOID</th>\n",
       "      <th>NAME</th>\n",
       "      <th>NAMELSAD</th>\n",
       "      <th>MTFCC</th>\n",
       "      <th>FUNCSTAT</th>\n",
       "      <th>ALAND</th>\n",
       "      <th>AWATER</th>\n",
       "      <th>INTPTLAT</th>\n",
       "      <th>INTPTLON</th>\n",
       "      <th>Areas</th>\n",
       "      <th>Score</th>\n",
       "      <th>score</th>\n",
       "      <th>Area</th>\n",
       "    </tr>\n",
       "  </thead>\n",
       "  <tbody>\n",
       "    <tr>\n",
       "      <th>0</th>\n",
       "      <td>0</td>\n",
       "      <td>17</td>\n",
       "      <td>31</td>\n",
       "      <td>510300</td>\n",
       "      <td>17031510300</td>\n",
       "      <td>5103.00</td>\n",
       "      <td>Census Tract 5103</td>\n",
       "      <td>G5020</td>\n",
       "      <td>S</td>\n",
       "      <td>2958348</td>\n",
       "      <td>0</td>\n",
       "      <td>41.715737</td>\n",
       "      <td>-87.574977</td>\n",
       "      <td>2.958347e+06</td>\n",
       "      <td>22.904143</td>\n",
       "      <td>9.115516</td>\n",
       "      <td>2.958347e+06</td>\n",
       "    </tr>\n",
       "    <tr>\n",
       "      <th>1</th>\n",
       "      <td>1</td>\n",
       "      <td>17</td>\n",
       "      <td>31</td>\n",
       "      <td>520100</td>\n",
       "      <td>17031520100</td>\n",
       "      <td>5201.00</td>\n",
       "      <td>Census Tract 5201</td>\n",
       "      <td>G5020</td>\n",
       "      <td>S</td>\n",
       "      <td>2581898</td>\n",
       "      <td>521681</td>\n",
       "      <td>41.721118</td>\n",
       "      <td>-87.529432</td>\n",
       "      <td>3.103581e+06</td>\n",
       "      <td>6.260806</td>\n",
       "      <td>3.942275</td>\n",
       "      <td>3.103581e+06</td>\n",
       "    </tr>\n",
       "    <tr>\n",
       "      <th>2</th>\n",
       "      <td>2</td>\n",
       "      <td>17</td>\n",
       "      <td>97</td>\n",
       "      <td>863006</td>\n",
       "      <td>17097863006</td>\n",
       "      <td>8630.06</td>\n",
       "      <td>Census Tract 8630.06</td>\n",
       "      <td>G5020</td>\n",
       "      <td>S</td>\n",
       "      <td>207264</td>\n",
       "      <td>0</td>\n",
       "      <td>42.300341</td>\n",
       "      <td>-87.853835</td>\n",
       "      <td>2.072661e+05</td>\n",
       "      <td>32.093269</td>\n",
       "      <td>7.086688</td>\n",
       "      <td>2.072661e+05</td>\n",
       "    </tr>\n",
       "    <tr>\n",
       "      <th>3</th>\n",
       "      <td>3</td>\n",
       "      <td>17</td>\n",
       "      <td>97</td>\n",
       "      <td>863004</td>\n",
       "      <td>17097863004</td>\n",
       "      <td>8630.04</td>\n",
       "      <td>Census Tract 8630.04</td>\n",
       "      <td>G5020</td>\n",
       "      <td>S</td>\n",
       "      <td>4440910</td>\n",
       "      <td>0</td>\n",
       "      <td>42.304664</td>\n",
       "      <td>-87.864265</td>\n",
       "      <td>4.440909e+06</td>\n",
       "      <td>43.642160</td>\n",
       "      <td>10.324691</td>\n",
       "      <td>4.440909e+06</td>\n",
       "    </tr>\n",
       "    <tr>\n",
       "      <th>4</th>\n",
       "      <td>4</td>\n",
       "      <td>17</td>\n",
       "      <td>97</td>\n",
       "      <td>866200</td>\n",
       "      <td>17097866200</td>\n",
       "      <td>8662.00</td>\n",
       "      <td>Census Tract 8662</td>\n",
       "      <td>G5020</td>\n",
       "      <td>S</td>\n",
       "      <td>32717452</td>\n",
       "      <td>584438</td>\n",
       "      <td>42.236056</td>\n",
       "      <td>-87.910709</td>\n",
       "      <td>3.330188e+07</td>\n",
       "      <td>71.867549</td>\n",
       "      <td>20.327057</td>\n",
       "      <td>3.330188e+07</td>\n",
       "    </tr>\n",
       "    <tr>\n",
       "      <th>...</th>\n",
       "      <td>...</td>\n",
       "      <td>...</td>\n",
       "      <td>...</td>\n",
       "      <td>...</td>\n",
       "      <td>...</td>\n",
       "      <td>...</td>\n",
       "      <td>...</td>\n",
       "      <td>...</td>\n",
       "      <td>...</td>\n",
       "      <td>...</td>\n",
       "      <td>...</td>\n",
       "      <td>...</td>\n",
       "      <td>...</td>\n",
       "      <td>...</td>\n",
       "      <td>...</td>\n",
       "      <td>...</td>\n",
       "      <td>...</td>\n",
       "    </tr>\n",
       "    <tr>\n",
       "      <th>3260</th>\n",
       "      <td>3260</td>\n",
       "      <td>17</td>\n",
       "      <td>199</td>\n",
       "      <td>20801</td>\n",
       "      <td>17199020801</td>\n",
       "      <td>208.01</td>\n",
       "      <td>Census Tract 208.01</td>\n",
       "      <td>G5020</td>\n",
       "      <td>S</td>\n",
       "      <td>153192395</td>\n",
       "      <td>1647960</td>\n",
       "      <td>37.813387</td>\n",
       "      <td>-88.812192</td>\n",
       "      <td>1.548403e+08</td>\n",
       "      <td>0.407235</td>\n",
       "      <td>0.011675</td>\n",
       "      <td>1.548403e+08</td>\n",
       "    </tr>\n",
       "    <tr>\n",
       "      <th>3261</th>\n",
       "      <td>3261</td>\n",
       "      <td>17</td>\n",
       "      <td>199</td>\n",
       "      <td>21001</td>\n",
       "      <td>17199021001</td>\n",
       "      <td>210.01</td>\n",
       "      <td>Census Tract 210.01</td>\n",
       "      <td>G5020</td>\n",
       "      <td>S</td>\n",
       "      <td>3743510</td>\n",
       "      <td>1762</td>\n",
       "      <td>37.742758</td>\n",
       "      <td>-88.934453</td>\n",
       "      <td>3.745271e+06</td>\n",
       "      <td>17.026945</td>\n",
       "      <td>4.000000</td>\n",
       "      <td>3.745271e+06</td>\n",
       "    </tr>\n",
       "    <tr>\n",
       "      <th>3262</th>\n",
       "      <td>3262</td>\n",
       "      <td>17</td>\n",
       "      <td>199</td>\n",
       "      <td>21003</td>\n",
       "      <td>17199021003</td>\n",
       "      <td>210.03</td>\n",
       "      <td>Census Tract 210.03</td>\n",
       "      <td>G5020</td>\n",
       "      <td>S</td>\n",
       "      <td>4058483</td>\n",
       "      <td>83663</td>\n",
       "      <td>37.743576</td>\n",
       "      <td>-88.949876</td>\n",
       "      <td>4.142144e+06</td>\n",
       "      <td>16.670430</td>\n",
       "      <td>4.061908</td>\n",
       "      <td>4.142144e+06</td>\n",
       "    </tr>\n",
       "    <tr>\n",
       "      <th>3263</th>\n",
       "      <td>3263</td>\n",
       "      <td>17</td>\n",
       "      <td>91</td>\n",
       "      <td>11700</td>\n",
       "      <td>17091011700</td>\n",
       "      <td>117.00</td>\n",
       "      <td>Census Tract 117</td>\n",
       "      <td>G5020</td>\n",
       "      <td>S</td>\n",
       "      <td>2373268</td>\n",
       "      <td>102060</td>\n",
       "      <td>41.129465</td>\n",
       "      <td>-87.873580</td>\n",
       "      <td>2.475329e+06</td>\n",
       "      <td>9.715547</td>\n",
       "      <td>2.915490</td>\n",
       "      <td>2.475329e+06</td>\n",
       "    </tr>\n",
       "    <tr>\n",
       "      <th>3264</th>\n",
       "      <td>3264</td>\n",
       "      <td>17</td>\n",
       "      <td>91</td>\n",
       "      <td>11800</td>\n",
       "      <td>17091011800</td>\n",
       "      <td>118.00</td>\n",
       "      <td>Census Tract 118</td>\n",
       "      <td>G5020</td>\n",
       "      <td>S</td>\n",
       "      <td>1791094</td>\n",
       "      <td>55670</td>\n",
       "      <td>41.140345</td>\n",
       "      <td>-87.876006</td>\n",
       "      <td>1.846760e+06</td>\n",
       "      <td>9.590080</td>\n",
       "      <td>2.674060</td>\n",
       "      <td>1.846760e+06</td>\n",
       "    </tr>\n",
       "  </tbody>\n",
       "</table>\n",
       "<p>3265 rows × 17 columns</p>\n",
       "</div>"
      ],
      "text/plain": [
       "      Unnamed: 0  STATEFP  COUNTYFP  TRACTCE        GEOID     NAME  \\\n",
       "0              0       17        31   510300  17031510300  5103.00   \n",
       "1              1       17        31   520100  17031520100  5201.00   \n",
       "2              2       17        97   863006  17097863006  8630.06   \n",
       "3              3       17        97   863004  17097863004  8630.04   \n",
       "4              4       17        97   866200  17097866200  8662.00   \n",
       "...          ...      ...       ...      ...          ...      ...   \n",
       "3260        3260       17       199    20801  17199020801   208.01   \n",
       "3261        3261       17       199    21001  17199021001   210.01   \n",
       "3262        3262       17       199    21003  17199021003   210.03   \n",
       "3263        3263       17        91    11700  17091011700   117.00   \n",
       "3264        3264       17        91    11800  17091011800   118.00   \n",
       "\n",
       "                  NAMELSAD  MTFCC FUNCSTAT      ALAND   AWATER   INTPTLAT  \\\n",
       "0        Census Tract 5103  G5020        S    2958348        0  41.715737   \n",
       "1        Census Tract 5201  G5020        S    2581898   521681  41.721118   \n",
       "2     Census Tract 8630.06  G5020        S     207264        0  42.300341   \n",
       "3     Census Tract 8630.04  G5020        S    4440910        0  42.304664   \n",
       "4        Census Tract 8662  G5020        S   32717452   584438  42.236056   \n",
       "...                    ...    ...      ...        ...      ...        ...   \n",
       "3260   Census Tract 208.01  G5020        S  153192395  1647960  37.813387   \n",
       "3261   Census Tract 210.01  G5020        S    3743510     1762  37.742758   \n",
       "3262   Census Tract 210.03  G5020        S    4058483    83663  37.743576   \n",
       "3263      Census Tract 117  G5020        S    2373268   102060  41.129465   \n",
       "3264      Census Tract 118  G5020        S    1791094    55670  41.140345   \n",
       "\n",
       "       INTPTLON         Areas      Score      score          Area  \n",
       "0    -87.574977  2.958347e+06  22.904143   9.115516  2.958347e+06  \n",
       "1    -87.529432  3.103581e+06   6.260806   3.942275  3.103581e+06  \n",
       "2    -87.853835  2.072661e+05  32.093269   7.086688  2.072661e+05  \n",
       "3    -87.864265  4.440909e+06  43.642160  10.324691  4.440909e+06  \n",
       "4    -87.910709  3.330188e+07  71.867549  20.327057  3.330188e+07  \n",
       "...         ...           ...        ...        ...           ...  \n",
       "3260 -88.812192  1.548403e+08   0.407235   0.011675  1.548403e+08  \n",
       "3261 -88.934453  3.745271e+06  17.026945   4.000000  3.745271e+06  \n",
       "3262 -88.949876  4.142144e+06  16.670430   4.061908  4.142144e+06  \n",
       "3263 -87.873580  2.475329e+06   9.715547   2.915490  2.475329e+06  \n",
       "3264 -87.876006  1.846760e+06   9.590080   2.674060  1.846760e+06  \n",
       "\n",
       "[3265 rows x 17 columns]"
      ]
     },
     "execution_count": 16,
     "metadata": {},
     "output_type": "execute_result"
    }
   ],
   "source": [
    "coverage"
   ]
  },
  {
   "cell_type": "code",
   "execution_count": 17,
   "id": "400add9e-d0bb-4a2d-ab06-72b22abd59e8",
   "metadata": {
    "tags": []
   },
   "outputs": [],
   "source": [
    "#set geoID as int\n",
    "censusTract['GEOID']=censusTract['GEOID'].astype(int)"
   ]
  },
  {
   "cell_type": "code",
   "execution_count": 18,
   "id": "76f63369-c5ee-44b9-98b2-5366b9d2c333",
   "metadata": {
    "tags": []
   },
   "outputs": [],
   "source": [
    "#set geoID as int\n",
    "coverage['GEOID']=coverage['GEOID'].astype(int)"
   ]
  },
  {
   "cell_type": "code",
   "execution_count": 19,
   "id": "9d64a0b0-7c75-4cae-b39a-399819b836fc",
   "metadata": {
    "tags": []
   },
   "outputs": [],
   "source": [
    "#mergaed coverage and census tract geometries\n",
    "mergedTract=pd.merge(censusTract, coverage, how='inner', on= \"GEOID\")"
   ]
  },
  {
   "cell_type": "code",
   "execution_count": 21,
   "id": "f3e25dd6-46bc-43d4-bc70-83ccca6b6ca8",
   "metadata": {
    "tags": []
   },
   "outputs": [],
   "source": [
    "#Read in demographic variables\n",
    "socio= pd.read_csv(\"../IL Work/socio_econ_factor_with_counts_IL_tracts.csv\", low_memory=False)"
   ]
  },
  {
   "cell_type": "code",
   "execution_count": 22,
   "id": "7023262d-5b3a-4ed5-85b1-44e519e0e280",
   "metadata": {
    "tags": []
   },
   "outputs": [],
   "source": [
    "#Set geoID as int\n",
    "socio['GEOID']=socio['GEOID'].astype(int)"
   ]
  },
  {
   "cell_type": "code",
   "execution_count": 23,
   "id": "e17d39dc-6cdd-434e-94ae-959eb3ea4059",
   "metadata": {
    "tags": []
   },
   "outputs": [],
   "source": [
    "#Merge demographic variables with the tracts\n",
    "socioMergedTract=pd.merge(mergedTract, socio, how='inner', on= \"GEOID\")"
   ]
  },
  {
   "cell_type": "code",
   "execution_count": 24,
   "id": "a65cb0a2-52a3-4725-948b-4282a7aeb8f4",
   "metadata": {
    "tags": []
   },
   "outputs": [
    {
     "data": {
      "text/plain": [
       "Index(['STATEFP_x', 'COUNTYFP_x', 'TRACTCE_x', 'GEOID', 'NAME_x', 'NAMELSAD_x',\n",
       "       'MTFCC_x', 'FUNCSTAT_x', 'ALAND_x', 'AWATER_x', 'INTPTLAT_x',\n",
       "       'INTPTLON_x', 'geometry_x', 'Unnamed: 0', 'STATEFP_y', 'COUNTYFP_y',\n",
       "       'TRACTCE_y', 'NAME_y', 'NAMELSAD_y', 'MTFCC_y', 'FUNCSTAT_y', 'ALAND_y',\n",
       "       'AWATER_y', 'INTPTLAT_y', 'INTPTLON_y', 'Areas', 'Score', 'score',\n",
       "       'Area', 'STATEFP', 'NAME', 'INTPTLAT', 'INTPTLON', 'geometry_y',\n",
       "       'Total count', 'Optometry_count', 'Ophthalmology_count', 'Others_count',\n",
       "       'Census Tracts', 'TotalPop', 'WhitePerc', 'Median_household_income',\n",
       "       'Mean_household_income', 'Bach_or_higher_perc',\n",
       "       'No_high_school_grad_perc', 'Percent_insured'],\n",
       "      dtype='object')"
      ]
     },
     "execution_count": 24,
     "metadata": {},
     "output_type": "execute_result"
    }
   ],
   "source": [
    "#Check columns\n",
    "socioMergedTract.columns"
   ]
  },
  {
   "cell_type": "code",
   "execution_count": 25,
   "id": "0f418d10-ab3e-4548-ae3f-f782f267a3bc",
   "metadata": {
    "tags": []
   },
   "outputs": [],
   "source": [
    "#Remove redundant columns\n",
    "socioMergedTract=socioMergedTract.drop(columns= ['NAME_x', 'NAMELSAD_x','MTFCC_x', 'FUNCSTAT_x', 'ALAND_x', 'AWATER_x', 'INTPTLAT_x', 'INTPTLON_x'])"
   ]
  },
  {
   "cell_type": "code",
   "execution_count": 26,
   "id": "7af32b65-b7a2-4463-8925-7b47fe90ea26",
   "metadata": {
    "tags": []
   },
   "outputs": [],
   "source": [
    "#Specify geometry\n",
    "socioMergedTract = socioMergedTract.set_geometry(socioMergedTract[\"geometry_x\"])"
   ]
  },
  {
   "cell_type": "code",
   "execution_count": 27,
   "id": "157c291b-5fc9-4382-9b79-f904f22aba3a",
   "metadata": {
    "tags": []
   },
   "outputs": [],
   "source": [
    "#Set Dependent variable\n",
    "y = socioMergedTract['score'].values.reshape((-1,1)) # reshape is needed to have column array"
   ]
  },
  {
   "cell_type": "code",
   "execution_count": 28,
   "id": "bdd72910-bb15-4ac4-9ab7-cdd1f483a811",
   "metadata": {
    "tags": []
   },
   "outputs": [
    {
     "data": {
      "text/plain": [
       "(3265, 3)"
      ]
     },
     "execution_count": 28,
     "metadata": {},
     "output_type": "execute_result"
    }
   ],
   "source": [
    "#Set independent variables\n",
    "X = socioMergedTract[['Median_household_income', 'Bach_or_higher_perc', 'WhitePerc']].values\n",
    "X.shape"
   ]
  },
  {
   "cell_type": "code",
   "execution_count": 29,
   "id": "3d84c8c1-f703-4d6b-b0ec-f51b423c0ae0",
   "metadata": {
    "tags": []
   },
   "outputs": [],
   "source": [
    "#Set coordinates\n",
    "u = socioMergedTract['INTPTLON_y']\n",
    "v = socioMergedTract['INTPTLAT_y']\n",
    "coords = list(zip(u,v))"
   ]
  },
  {
   "cell_type": "code",
   "execution_count": 30,
   "id": "5a23cf9a-7bba-43fa-82db-9c181d3d83c7",
   "metadata": {
    "tags": []
   },
   "outputs": [
    {
     "name": "stdout",
     "output_type": "stream",
     "text": [
      "CPU times: user 2min 54s, sys: 11min 20s, total: 14min 15s\n",
      "Wall time: 1min 1s\n"
     ]
    }
   ],
   "source": [
    "\n",
    "%%time\n",
    "gwr_selector = Sel_BW(coords, y, X)\n",
    "gwr_bw = gwr_selector.search()"
   ]
  },
  {
   "cell_type": "code",
   "execution_count": 31,
   "id": "b63c2343-946b-4f53-b309-223d18126094",
   "metadata": {
    "tags": []
   },
   "outputs": [
    {
     "name": "stdout",
     "output_type": "stream",
     "text": [
      "GWR bandwidth = 50.0\n"
     ]
    }
   ],
   "source": [
    "print('GWR bandwidth =', gwr_bw)"
   ]
  },
  {
   "cell_type": "code",
   "execution_count": 32,
   "id": "9572b0bc-e9a7-4c0a-a56d-31565fba2ea9",
   "metadata": {
    "tags": []
   },
   "outputs": [],
   "source": [
    "#Run GWR regression model\n",
    "gwr_results = GWR(coords, y, X, gwr_bw).fit()"
   ]
  },
  {
   "cell_type": "code",
   "execution_count": 33,
   "id": "a19d95b1-693f-4ad6-8dd5-fff7a1540ae9",
   "metadata": {
    "tags": []
   },
   "outputs": [
    {
     "name": "stdout",
     "output_type": "stream",
     "text": [
      "===========================================================================\n",
      "Model type                                                         Gaussian\n",
      "Number of observations:                                                3265\n",
      "Number of covariates:                                                     4\n",
      "\n",
      "Global Regression Results\n",
      "---------------------------------------------------------------------------\n",
      "Residual sum of squares:                                         522084.106\n",
      "Log-likelihood:                                                  -12917.068\n",
      "AIC:                                                              25842.136\n",
      "AICc:                                                             25844.155\n",
      "BIC:                                                             495699.306\n",
      "R2:                                                                   0.431\n",
      "Adj. R2:                                                              0.430\n",
      "\n",
      "Variable                              Est.         SE  t(Est/SE)    p-value\n",
      "------------------------------- ---------- ---------- ---------- ----------\n",
      "X0                                  14.826      0.577     25.678      0.000\n",
      "X1                                  -0.000      0.000     -0.660      0.509\n",
      "X2                                   0.486      0.015     32.836      0.000\n",
      "X3                                  -0.240      0.008    -29.473      0.000\n",
      "\n",
      "Geographically Weighted Regression (GWR) Results\n",
      "---------------------------------------------------------------------------\n",
      "Spatial kernel:                                           Adaptive bisquare\n",
      "Bandwidth used:                                                      50.000\n",
      "\n",
      "Diagnostic information\n",
      "---------------------------------------------------------------------------\n",
      "Residual sum of squares:                                          38904.300\n",
      "Effective number of parameters (trace(S)):                          586.993\n",
      "Degree of freedom (n - trace(S)):                                  2678.007\n",
      "Sigma estimate:                                                       3.811\n",
      "Log-likelihood:                                                   -8677.916\n",
      "AIC:                                                              18531.820\n",
      "AICc:                                                             18790.656\n",
      "BIC:                                                              22113.297\n",
      "R2:                                                                   0.958\n",
      "Adjusted R2:                                                          0.948\n",
      "Adj. alpha (95%):                                                     0.000\n",
      "Adj. critical t value (95%):                                          3.586\n",
      "\n",
      "Summary Statistics For GWR Parameter Estimates\n",
      "---------------------------------------------------------------------------\n",
      "Variable                   Mean        STD        Min     Median        Max\n",
      "-------------------- ---------- ---------- ---------- ---------- ----------\n",
      "X0                       19.510     18.491    -10.217     13.054    122.290\n",
      "X1                       -0.000      0.000     -0.001     -0.000      0.000\n",
      "X2                        0.087      0.198     -0.887      0.055      0.994\n",
      "X3                       -0.069      0.251     -2.009     -0.044      1.900\n",
      "===========================================================================\n",
      "\n"
     ]
    }
   ],
   "source": [
    "#View results of GWR\n",
    "gwr_results.summary()"
   ]
  },
  {
   "cell_type": "code",
   "execution_count": 62,
   "id": "11757ff8-d594-4420-b92b-a5ef79749a46",
   "metadata": {
    "tags": []
   },
   "outputs": [
    {
     "ename": "AttributeError",
     "evalue": "module 'numpy' has no attribute 'float'.\n`np.float` was a deprecated alias for the builtin `float`. To avoid this error in existing code, use `float` by itself. Doing this will not modify any behavior and is safe. If you specifically wanted the numpy scalar type, use `np.float64` here.\nThe aliases was originally deprecated in NumPy 1.20; for more details and guidance see the original release note at:\n    https://numpy.org/devdocs/release/1.20.0-notes.html#deprecations",
     "output_type": "error",
     "traceback": [
      "\u001b[0;31m---------------------------------------------------------------------------\u001b[0m",
      "\u001b[0;31mAttributeError\u001b[0m                            Traceback (most recent call last)",
      "Cell \u001b[0;32mIn[62], line 1\u001b[0m\n\u001b[0;32m----> 1\u001b[0m \u001b[38;5;28mprint\u001b[39m(\u001b[38;5;124m'\u001b[39m\u001b[38;5;124mMean R2 =\u001b[39m\u001b[38;5;124m'\u001b[39m, \u001b[43mgwr_results\u001b[49m\u001b[38;5;241;43m.\u001b[39;49m\u001b[43mR2\u001b[49m)\n",
      "File \u001b[0;32m/opt/tljh/user/lib/python3.9/site-packages/spglm/utils.py:358\u001b[0m, in \u001b[0;36mCachedAttribute.__get__\u001b[0;34m(self, obj, type)\u001b[0m\n\u001b[1;32m    355\u001b[0m \u001b[38;5;66;03m# print(\"[_cachedval=%s]\" % _cachedval)\u001b[39;00m\n\u001b[1;32m    356\u001b[0m \u001b[38;5;28;01mif\u001b[39;00m _cachedval \u001b[38;5;129;01mis\u001b[39;00m \u001b[38;5;28;01mNone\u001b[39;00m:\n\u001b[1;32m    357\u001b[0m     \u001b[38;5;66;03m# Call the \"fget\" function\u001b[39;00m\n\u001b[0;32m--> 358\u001b[0m     _cachedval \u001b[38;5;241m=\u001b[39m \u001b[38;5;28;43mself\u001b[39;49m\u001b[38;5;241;43m.\u001b[39;49m\u001b[43mfget\u001b[49m\u001b[43m(\u001b[49m\u001b[43mobj\u001b[49m\u001b[43m)\u001b[49m\n\u001b[1;32m    359\u001b[0m     \u001b[38;5;66;03m# Set the attribute in obj\u001b[39;00m\n\u001b[1;32m    360\u001b[0m     \u001b[38;5;66;03m# print(\"Setting %s in cache to %s\" % (name, _cachedval))\u001b[39;00m\n\u001b[1;32m    361\u001b[0m     \u001b[38;5;28;01mtry\u001b[39;00m:\n",
      "File \u001b[0;32m/opt/tljh/user/lib/python3.9/site-packages/mgwr/gwr.py:1004\u001b[0m, in \u001b[0;36mGWRResults.R2\u001b[0;34m(self)\u001b[0m\n\u001b[1;32m   1000\u001b[0m \u001b[38;5;250m\u001b[39m\u001b[38;5;124;03m\"\"\"\u001b[39;00m\n\u001b[1;32m   1001\u001b[0m \u001b[38;5;124;03mGlobal r-squared value for a Gaussian model.\u001b[39;00m\n\u001b[1;32m   1002\u001b[0m \u001b[38;5;124;03m\"\"\"\u001b[39;00m\n\u001b[1;32m   1003\u001b[0m \u001b[38;5;28;01mif\u001b[39;00m \u001b[38;5;28misinstance\u001b[39m(\u001b[38;5;28mself\u001b[39m\u001b[38;5;241m.\u001b[39mfamily, Gaussian):\n\u001b[0;32m-> 1004\u001b[0m     \u001b[38;5;28;01mreturn\u001b[39;00m \u001b[38;5;28;43mself\u001b[39;49m\u001b[38;5;241;43m.\u001b[39;49m\u001b[43mD2\u001b[49m\n\u001b[1;32m   1005\u001b[0m \u001b[38;5;28;01melse\u001b[39;00m:\n\u001b[1;32m   1006\u001b[0m     \u001b[38;5;28;01mraise\u001b[39;00m \u001b[38;5;167;01mNotImplementedError\u001b[39;00m(\u001b[38;5;124m'\u001b[39m\u001b[38;5;124mR2 only for Gaussian\u001b[39m\u001b[38;5;124m'\u001b[39m)\n",
      "File \u001b[0;32m/opt/tljh/user/lib/python3.9/site-packages/spglm/utils.py:358\u001b[0m, in \u001b[0;36mCachedAttribute.__get__\u001b[0;34m(self, obj, type)\u001b[0m\n\u001b[1;32m    355\u001b[0m \u001b[38;5;66;03m# print(\"[_cachedval=%s]\" % _cachedval)\u001b[39;00m\n\u001b[1;32m    356\u001b[0m \u001b[38;5;28;01mif\u001b[39;00m _cachedval \u001b[38;5;129;01mis\u001b[39;00m \u001b[38;5;28;01mNone\u001b[39;00m:\n\u001b[1;32m    357\u001b[0m     \u001b[38;5;66;03m# Call the \"fget\" function\u001b[39;00m\n\u001b[0;32m--> 358\u001b[0m     _cachedval \u001b[38;5;241m=\u001b[39m \u001b[38;5;28;43mself\u001b[39;49m\u001b[38;5;241;43m.\u001b[39;49m\u001b[43mfget\u001b[49m\u001b[43m(\u001b[49m\u001b[43mobj\u001b[49m\u001b[43m)\u001b[49m\n\u001b[1;32m    359\u001b[0m     \u001b[38;5;66;03m# Set the attribute in obj\u001b[39;00m\n\u001b[1;32m    360\u001b[0m     \u001b[38;5;66;03m# print(\"Setting %s in cache to %s\" % (name, _cachedval))\u001b[39;00m\n\u001b[1;32m    361\u001b[0m     \u001b[38;5;28;01mtry\u001b[39;00m:\n",
      "File \u001b[0;32m/opt/tljh/user/lib/python3.9/site-packages/mgwr/gwr.py:995\u001b[0m, in \u001b[0;36mGWRResults.D2\u001b[0;34m(self)\u001b[0m\n\u001b[1;32m    990\u001b[0m \u001b[38;5;129m@cache_readonly\u001b[39m\n\u001b[1;32m    991\u001b[0m \u001b[38;5;28;01mdef\u001b[39;00m \u001b[38;5;21mD2\u001b[39m(\u001b[38;5;28mself\u001b[39m):\n\u001b[1;32m    992\u001b[0m \u001b[38;5;250m    \u001b[39m\u001b[38;5;124;03m\"\"\"\u001b[39;00m\n\u001b[1;32m    993\u001b[0m \u001b[38;5;124;03m    Percentage of deviance explanied. Equivalent to 1 - (deviance/null deviance)\u001b[39;00m\n\u001b[1;32m    994\u001b[0m \u001b[38;5;124;03m    \"\"\"\u001b[39;00m\n\u001b[0;32m--> 995\u001b[0m     D2 \u001b[38;5;241m=\u001b[39m \u001b[38;5;241m1.0\u001b[39m \u001b[38;5;241m-\u001b[39m (\u001b[38;5;28mself\u001b[39m\u001b[38;5;241m.\u001b[39mglobal_deviance \u001b[38;5;241m/\u001b[39m \u001b[38;5;28;43mself\u001b[39;49m\u001b[38;5;241;43m.\u001b[39;49m\u001b[43mnull_deviance\u001b[49m)\n\u001b[1;32m    996\u001b[0m     \u001b[38;5;28;01mreturn\u001b[39;00m D2\n",
      "File \u001b[0;32m/opt/tljh/user/lib/python3.9/site-packages/spglm/utils.py:358\u001b[0m, in \u001b[0;36mCachedAttribute.__get__\u001b[0;34m(self, obj, type)\u001b[0m\n\u001b[1;32m    355\u001b[0m \u001b[38;5;66;03m# print(\"[_cachedval=%s]\" % _cachedval)\u001b[39;00m\n\u001b[1;32m    356\u001b[0m \u001b[38;5;28;01mif\u001b[39;00m _cachedval \u001b[38;5;129;01mis\u001b[39;00m \u001b[38;5;28;01mNone\u001b[39;00m:\n\u001b[1;32m    357\u001b[0m     \u001b[38;5;66;03m# Call the \"fget\" function\u001b[39;00m\n\u001b[0;32m--> 358\u001b[0m     _cachedval \u001b[38;5;241m=\u001b[39m \u001b[38;5;28;43mself\u001b[39;49m\u001b[38;5;241;43m.\u001b[39;49m\u001b[43mfget\u001b[49m\u001b[43m(\u001b[49m\u001b[43mobj\u001b[49m\u001b[43m)\u001b[49m\n\u001b[1;32m    359\u001b[0m     \u001b[38;5;66;03m# Set the attribute in obj\u001b[39;00m\n\u001b[1;32m    360\u001b[0m     \u001b[38;5;66;03m# print(\"Setting %s in cache to %s\" % (name, _cachedval))\u001b[39;00m\n\u001b[1;32m    361\u001b[0m     \u001b[38;5;28;01mtry\u001b[39;00m:\n",
      "File \u001b[0;32m/opt/tljh/user/lib/python3.9/site-packages/mgwr/gwr.py:983\u001b[0m, in \u001b[0;36mGWRResults.null_deviance\u001b[0;34m(self)\u001b[0m\n\u001b[1;32m    981\u001b[0m \u001b[38;5;129m@cache_readonly\u001b[39m\n\u001b[1;32m    982\u001b[0m \u001b[38;5;28;01mdef\u001b[39;00m \u001b[38;5;21mnull_deviance\u001b[39m(\u001b[38;5;28mself\u001b[39m):\n\u001b[0;32m--> 983\u001b[0m     \u001b[38;5;28;01mreturn\u001b[39;00m \u001b[38;5;28mself\u001b[39m\u001b[38;5;241m.\u001b[39mfamily\u001b[38;5;241m.\u001b[39mdeviance(\u001b[38;5;28mself\u001b[39m\u001b[38;5;241m.\u001b[39my, \u001b[38;5;28;43mself\u001b[39;49m\u001b[38;5;241;43m.\u001b[39;49m\u001b[43mnull\u001b[49m)\n",
      "File \u001b[0;32m/opt/tljh/user/lib/python3.9/site-packages/spglm/utils.py:358\u001b[0m, in \u001b[0;36mCachedAttribute.__get__\u001b[0;34m(self, obj, type)\u001b[0m\n\u001b[1;32m    355\u001b[0m \u001b[38;5;66;03m# print(\"[_cachedval=%s]\" % _cachedval)\u001b[39;00m\n\u001b[1;32m    356\u001b[0m \u001b[38;5;28;01mif\u001b[39;00m _cachedval \u001b[38;5;129;01mis\u001b[39;00m \u001b[38;5;28;01mNone\u001b[39;00m:\n\u001b[1;32m    357\u001b[0m     \u001b[38;5;66;03m# Call the \"fget\" function\u001b[39;00m\n\u001b[0;32m--> 358\u001b[0m     _cachedval \u001b[38;5;241m=\u001b[39m \u001b[38;5;28;43mself\u001b[39;49m\u001b[38;5;241;43m.\u001b[39;49m\u001b[43mfget\u001b[49m\u001b[43m(\u001b[49m\u001b[43mobj\u001b[49m\u001b[43m)\u001b[49m\n\u001b[1;32m    359\u001b[0m     \u001b[38;5;66;03m# Set the attribute in obj\u001b[39;00m\n\u001b[1;32m    360\u001b[0m     \u001b[38;5;66;03m# print(\"Setting %s in cache to %s\" % (name, _cachedval))\u001b[39;00m\n\u001b[1;32m    361\u001b[0m     \u001b[38;5;28;01mtry\u001b[39;00m:\n",
      "File \u001b[0;32m/opt/tljh/user/lib/python3.9/site-packages/spglm/glm.py:342\u001b[0m, in \u001b[0;36mGLMResults.null\u001b[0;34m(self)\u001b[0m\n\u001b[1;32m    335\u001b[0m X \u001b[38;5;241m=\u001b[39m np\u001b[38;5;241m.\u001b[39mones((\u001b[38;5;28mlen\u001b[39m(y), \u001b[38;5;241m1\u001b[39m))\n\u001b[1;32m    336\u001b[0m null_mod \u001b[38;5;241m=\u001b[39m GLM(\n\u001b[1;32m    337\u001b[0m     y,\n\u001b[1;32m    338\u001b[0m     X,\n\u001b[1;32m    339\u001b[0m     family\u001b[38;5;241m=\u001b[39m\u001b[38;5;28mself\u001b[39m\u001b[38;5;241m.\u001b[39mfamily,\n\u001b[1;32m    340\u001b[0m     offset\u001b[38;5;241m=\u001b[39m\u001b[38;5;28mself\u001b[39m\u001b[38;5;241m.\u001b[39moffset,\n\u001b[1;32m    341\u001b[0m     constant\u001b[38;5;241m=\u001b[39m\u001b[38;5;28;01mFalse\u001b[39;00m)\n\u001b[0;32m--> 342\u001b[0m \u001b[38;5;28;01mreturn\u001b[39;00m \u001b[43mnull_mod\u001b[49m\u001b[38;5;241;43m.\u001b[39;49m\u001b[43mfit\u001b[49m\u001b[43m(\u001b[49m\u001b[43m)\u001b[49m\u001b[38;5;241m.\u001b[39mmu\n",
      "File \u001b[0;32m/opt/tljh/user/lib/python3.9/site-packages/spglm/glm.py:132\u001b[0m, in \u001b[0;36mGLM.fit\u001b[0;34m(self, ini_betas, tol, max_iter, solve)\u001b[0m\n\u001b[1;32m    130\u001b[0m \u001b[38;5;28mself\u001b[39m\u001b[38;5;241m.\u001b[39mfit_params[\u001b[38;5;124m'\u001b[39m\u001b[38;5;124msolve\u001b[39m\u001b[38;5;124m'\u001b[39m] \u001b[38;5;241m=\u001b[39m solve\n\u001b[1;32m    131\u001b[0m \u001b[38;5;28;01mif\u001b[39;00m solve\u001b[38;5;241m.\u001b[39mlower() \u001b[38;5;241m==\u001b[39m \u001b[38;5;124m'\u001b[39m\u001b[38;5;124miwls\u001b[39m\u001b[38;5;124m'\u001b[39m:\n\u001b[0;32m--> 132\u001b[0m     params, predy, w, n_iter \u001b[38;5;241m=\u001b[39m \u001b[43miwls\u001b[49m\u001b[43m(\u001b[49m\n\u001b[1;32m    133\u001b[0m \u001b[43m        \u001b[49m\u001b[38;5;28;43mself\u001b[39;49m\u001b[38;5;241;43m.\u001b[39;49m\u001b[43my\u001b[49m\u001b[43m,\u001b[49m\u001b[43m \u001b[49m\u001b[38;5;28;43mself\u001b[39;49m\u001b[38;5;241;43m.\u001b[39;49m\u001b[43mX\u001b[49m\u001b[43m,\u001b[49m\u001b[43m \u001b[49m\u001b[38;5;28;43mself\u001b[39;49m\u001b[38;5;241;43m.\u001b[39;49m\u001b[43mfamily\u001b[49m\u001b[43m,\u001b[49m\u001b[43m \u001b[49m\u001b[38;5;28;43mself\u001b[39;49m\u001b[38;5;241;43m.\u001b[39;49m\u001b[43moffset\u001b[49m\u001b[43m,\u001b[49m\u001b[43m \u001b[49m\u001b[38;5;28;43mself\u001b[39;49m\u001b[38;5;241;43m.\u001b[39;49m\u001b[43my_fix\u001b[49m\u001b[43m,\u001b[49m\u001b[43m \u001b[49m\u001b[43mini_betas\u001b[49m\u001b[43m,\u001b[49m\u001b[43m \u001b[49m\u001b[43mtol\u001b[49m\u001b[43m,\u001b[49m\u001b[43m \u001b[49m\u001b[43mmax_iter\u001b[49m\u001b[43m)\u001b[49m\n\u001b[1;32m    134\u001b[0m     \u001b[38;5;28mself\u001b[39m\u001b[38;5;241m.\u001b[39mfit_params[\u001b[38;5;124m'\u001b[39m\u001b[38;5;124mn_iter\u001b[39m\u001b[38;5;124m'\u001b[39m] \u001b[38;5;241m=\u001b[39m n_iter\n\u001b[1;32m    135\u001b[0m \u001b[38;5;28;01mreturn\u001b[39;00m GLMResults(\u001b[38;5;28mself\u001b[39m, params\u001b[38;5;241m.\u001b[39mflatten(), predy, w)\n",
      "File \u001b[0;32m/opt/tljh/user/lib/python3.9/site-packages/spglm/iwls.py:111\u001b[0m, in \u001b[0;36miwls\u001b[0;34m(y, x, family, offset, y_fix, ini_betas, tol, max_iter, wi)\u001b[0m\n\u001b[1;32m    108\u001b[0m diff \u001b[38;5;241m=\u001b[39m \u001b[38;5;241m1.0e6\u001b[39m\n\u001b[1;32m    110\u001b[0m \u001b[38;5;28;01mif\u001b[39;00m ini_betas \u001b[38;5;129;01mis\u001b[39;00m \u001b[38;5;28;01mNone\u001b[39;00m:\n\u001b[0;32m--> 111\u001b[0m     betas \u001b[38;5;241m=\u001b[39m np\u001b[38;5;241m.\u001b[39mzeros((x\u001b[38;5;241m.\u001b[39mshape[\u001b[38;5;241m1\u001b[39m], \u001b[38;5;241m1\u001b[39m), \u001b[43mnp\u001b[49m\u001b[38;5;241;43m.\u001b[39;49m\u001b[43mfloat\u001b[49m)\n\u001b[1;32m    112\u001b[0m \u001b[38;5;28;01melse\u001b[39;00m:\n\u001b[1;32m    113\u001b[0m     betas \u001b[38;5;241m=\u001b[39m ini_betas\n",
      "File \u001b[0;32m/opt/tljh/user/lib/python3.9/site-packages/numpy/__init__.py:305\u001b[0m, in \u001b[0;36m__getattr__\u001b[0;34m(attr)\u001b[0m\n\u001b[1;32m    300\u001b[0m     warnings\u001b[38;5;241m.\u001b[39mwarn(\n\u001b[1;32m    301\u001b[0m         \u001b[38;5;124mf\u001b[39m\u001b[38;5;124m\"\u001b[39m\u001b[38;5;124mIn the future `np.\u001b[39m\u001b[38;5;132;01m{\u001b[39;00mattr\u001b[38;5;132;01m}\u001b[39;00m\u001b[38;5;124m` will be defined as the \u001b[39m\u001b[38;5;124m\"\u001b[39m\n\u001b[1;32m    302\u001b[0m         \u001b[38;5;124m\"\u001b[39m\u001b[38;5;124mcorresponding NumPy scalar.\u001b[39m\u001b[38;5;124m\"\u001b[39m, \u001b[38;5;167;01mFutureWarning\u001b[39;00m, stacklevel\u001b[38;5;241m=\u001b[39m\u001b[38;5;241m2\u001b[39m)\n\u001b[1;32m    304\u001b[0m \u001b[38;5;28;01mif\u001b[39;00m attr \u001b[38;5;129;01min\u001b[39;00m __former_attrs__:\n\u001b[0;32m--> 305\u001b[0m     \u001b[38;5;28;01mraise\u001b[39;00m \u001b[38;5;167;01mAttributeError\u001b[39;00m(__former_attrs__[attr])\n\u001b[1;32m    307\u001b[0m \u001b[38;5;66;03m# Importing Tester requires importing all of UnitTest which is not a\u001b[39;00m\n\u001b[1;32m    308\u001b[0m \u001b[38;5;66;03m# cheap import Since it is mainly used in test suits, we lazy import it\u001b[39;00m\n\u001b[1;32m    309\u001b[0m \u001b[38;5;66;03m# here to save on the order of 10 ms of import time for most users\u001b[39;00m\n\u001b[1;32m    310\u001b[0m \u001b[38;5;66;03m#\u001b[39;00m\n\u001b[1;32m    311\u001b[0m \u001b[38;5;66;03m# The previous way Tester was imported also had a side effect of adding\u001b[39;00m\n\u001b[1;32m    312\u001b[0m \u001b[38;5;66;03m# the full `numpy.testing` namespace\u001b[39;00m\n\u001b[1;32m    313\u001b[0m \u001b[38;5;28;01mif\u001b[39;00m attr \u001b[38;5;241m==\u001b[39m \u001b[38;5;124m'\u001b[39m\u001b[38;5;124mtesting\u001b[39m\u001b[38;5;124m'\u001b[39m:\n",
      "\u001b[0;31mAttributeError\u001b[0m: module 'numpy' has no attribute 'float'.\n`np.float` was a deprecated alias for the builtin `float`. To avoid this error in existing code, use `float` by itself. Doing this will not modify any behavior and is safe. If you specifically wanted the numpy scalar type, use `np.float64` here.\nThe aliases was originally deprecated in NumPy 1.20; for more details and guidance see the original release note at:\n    https://numpy.org/devdocs/release/1.20.0-notes.html#deprecations"
     ]
    }
   ],
   "source": [
    "#View mean R2\n",
    "print('Mean R2 =', gwr_results.R2)"
   ]
  },
  {
   "cell_type": "code",
   "execution_count": null,
   "id": "f2b7ed0e-99bb-4b7a-9551-a068d47e122a",
   "metadata": {
    "tags": []
   },
   "outputs": [],
   "source": [
    "#View AICc\n",
    "print('AICc =', gwr_results.aicc)"
   ]
  },
  {
   "cell_type": "code",
   "execution_count": null,
   "id": "6e704bad-00e1-4a81-8b16-0fb5c8b02a4b",
   "metadata": {
    "tags": []
   },
   "outputs": [],
   "source": [
    "#View AIC\n",
    "print('AIC =', gwr_results.aic)"
   ]
  },
  {
   "cell_type": "code",
   "execution_count": 63,
   "id": "fe9ef926-ee76-430b-8a76-aab541da3f64",
   "metadata": {
    "tags": []
   },
   "outputs": [],
   "source": [
    "#Set local R2 within DF\n",
    "socioMergedTract['gwr_R2']=gwr_results.localR2"
   ]
  },
  {
   "cell_type": "code",
   "execution_count": 65,
   "id": "794d8467-618d-4cc5-a55f-7701b4b009d3",
   "metadata": {
    "tags": []
   },
   "outputs": [
    {
     "data": {
      "image/png": "[encoded data removed]",
      "text/plain": [
       "<Figure size 432x432 with 1 Axes>"
      ]
     },
     "metadata": {},
     "output_type": "display_data"
    }
   ],
   "source": [
    "#Plot local R2 to assess model fit and variability\n",
    "fig, ax = plt.subplots(figsize=(6, 6))\n",
    "socioMergedTract.plot(column='gwr_R2', cmap = 'coolwarm', linewidth=0.01, scheme = 'FisherJenks', k=5, legend=True, legend_kwds={'bbox_to_anchor':(1.55, 0.96)},  ax=ax)\n",
    "ax.set_title('Local R2', fontsize=12)\n",
    "ax.axis(\"off\")\n",
    "#plt.savefig('myMap.png',dpi=150, bbox_inches='tight')\n",
    "plt.show()"
   ]
  },
  {
   "cell_type": "code",
   "execution_count": 66,
   "id": "4247ea61-280c-4926-a4d2-1e04ef462324",
   "metadata": {
    "tags": []
   },
   "outputs": [],
   "source": [
    "#Add GWR INT to DF\n",
    "socioMergedTract['gwr_intercept'] = gwr_results.params[:,0]"
   ]
  },
  {
   "cell_type": "code",
   "execution_count": 67,
   "id": "9f4a92ab-fab2-432e-93b6-543339ab5787",
   "metadata": {
    "tags": []
   },
   "outputs": [],
   "source": [
    "#Add gwr fb to df\n",
    "socioMergedTract['gwr_fb']        = gwr_results.params[:,1]"
   ]
  },
  {
   "cell_type": "code",
   "execution_count": 68,
   "id": "56378c5a-9a89-4365-b051-4bb498cd2a9c",
   "metadata": {
    "tags": []
   },
   "outputs": [],
   "source": [
    "#Add gwr aa to df\n",
    "socioMergedTract['gwr_aa']        = gwr_results.params[:,2]"
   ]
  },
  {
   "cell_type": "code",
   "execution_count": 69,
   "id": "a2d9fd02-e753-4cb1-9a51-1922b01885b3",
   "metadata": {
    "tags": []
   },
   "outputs": [],
   "source": [
    "#Add gwr rural to df\n",
    "socioMergedTract['gwr_rural']     = gwr_results.params[:,3]"
   ]
  },
  {
   "cell_type": "code",
   "execution_count": 71,
   "id": "946d944f-b00f-4239-98d4-e81931c8e85d",
   "metadata": {
    "tags": []
   },
   "outputs": [],
   "source": [
    "# Filter t-values: standard alpha = 0.05\n",
    "gwr_filtered_t = gwr_results.filter_tvals(alpha = 0.05)"
   ]
  },
  {
   "cell_type": "code",
   "execution_count": 72,
   "id": "e697da0f-6107-4a32-b580-7f3a84690df5",
   "metadata": {
    "tags": []
   },
   "outputs": [],
   "source": [
    "# Filter t-values: corrected alpha due to multiple testing\n",
    "gwr_filtered_tc = gwr_results.filter_tvals()"
   ]
  },
  {
   "cell_type": "code",
   "execution_count": 73,
   "id": "e68be130-7914-4ae2-989f-07031c26a76a",
   "metadata": {
    "tags": []
   },
   "outputs": [],
   "source": [
    "Zy = (y - y.mean(axis=0)) / y.std(axis=0)\n",
    "ZX = (X - X.mean(axis=0)) / X.std(axis=0)"
   ]
  },
  {
   "cell_type": "code",
   "execution_count": 74,
   "id": "eb9e8b60-ca9a-4847-b46e-38973c92bee5",
   "metadata": {
    "tags": []
   },
   "outputs": [
    {
     "data": {
      "application/vnd.jupyter.widget-view+json": {
       "model_id": "b23107b972df4792ad521c8b2087204d",
       "version_major": 2,
       "version_minor": 0
      },
      "text/plain": [
       "Backfitting:   0%|          | 0/200 [00:00<?, ?it/s]"
      ]
     },
     "metadata": {},
     "output_type": "display_data"
    },
    {
     "ename": "KeyboardInterrupt",
     "evalue": "",
     "output_type": "error",
     "traceback": [
      "\u001b[0;31m---------------------------------------------------------------------------\u001b[0m",
      "\u001b[0;31mKeyboardInterrupt\u001b[0m                         Traceback (most recent call last)",
      "Cell \u001b[0;32mIn[74], line 2\u001b[0m\n\u001b[1;32m      1\u001b[0m mgwr_selector \u001b[38;5;241m=\u001b[39m Sel_BW(coords, Zy, ZX, multi\u001b[38;5;241m=\u001b[39m\u001b[38;5;28;01mTrue\u001b[39;00m)\n\u001b[0;32m----> 2\u001b[0m mgwr_bw \u001b[38;5;241m=\u001b[39m \u001b[43mmgwr_selector\u001b[49m\u001b[38;5;241;43m.\u001b[39;49m\u001b[43msearch\u001b[49m\u001b[43m(\u001b[49m\u001b[43m)\u001b[49m\n\u001b[1;32m      3\u001b[0m mgwr_bw\n",
      "File \u001b[0;32m/opt/tljh/user/lib/python3.9/site-packages/mgwr/sel_bw.py:313\u001b[0m, in \u001b[0;36mSel_BW.search\u001b[0;34m(self, search_method, criterion, bw_min, bw_max, interval, tol, max_iter, init_multi, tol_multi, rss_score, max_iter_multi, multi_bw_min, multi_bw_max, bws_same_times, pool, verbose)\u001b[0m\n\u001b[1;32m    310\u001b[0m \u001b[38;5;28mself\u001b[39m\u001b[38;5;241m.\u001b[39mint_score \u001b[38;5;241m=\u001b[39m \u001b[38;5;129;01mnot\u001b[39;00m \u001b[38;5;28mself\u001b[39m\u001b[38;5;241m.\u001b[39mfixed\n\u001b[1;32m    312\u001b[0m \u001b[38;5;28;01mif\u001b[39;00m \u001b[38;5;28mself\u001b[39m\u001b[38;5;241m.\u001b[39mmulti:\n\u001b[0;32m--> 313\u001b[0m     \u001b[38;5;28;43mself\u001b[39;49m\u001b[38;5;241;43m.\u001b[39;49m\u001b[43m_mbw\u001b[49m\u001b[43m(\u001b[49m\u001b[43m)\u001b[49m\n\u001b[1;32m    314\u001b[0m     \u001b[38;5;28mself\u001b[39m\u001b[38;5;241m.\u001b[39mparams \u001b[38;5;241m=\u001b[39m \u001b[38;5;28mself\u001b[39m\u001b[38;5;241m.\u001b[39mbw[\u001b[38;5;241m3\u001b[39m]  \u001b[38;5;66;03m#params n by k\u001b[39;00m\n\u001b[1;32m    315\u001b[0m     \u001b[38;5;28mself\u001b[39m\u001b[38;5;241m.\u001b[39msel_hist \u001b[38;5;241m=\u001b[39m \u001b[38;5;28mself\u001b[39m\u001b[38;5;241m.\u001b[39mbw[\u001b[38;5;241m-\u001b[39m\u001b[38;5;241m2\u001b[39m] \u001b[38;5;66;03m#bw searching history\u001b[39;00m\n",
      "File \u001b[0;32m/opt/tljh/user/lib/python3.9/site-packages/mgwr/sel_bw.py:399\u001b[0m, in \u001b[0;36mSel_BW._mbw\u001b[0;34m(self)\u001b[0m\n\u001b[1;32m    393\u001b[0m \u001b[38;5;28;01mdef\u001b[39;00m \u001b[38;5;21msel_func\u001b[39m(bw_func, bw_min\u001b[38;5;241m=\u001b[39m\u001b[38;5;28;01mNone\u001b[39;00m, bw_max\u001b[38;5;241m=\u001b[39m\u001b[38;5;28;01mNone\u001b[39;00m):\n\u001b[1;32m    394\u001b[0m     \u001b[38;5;28;01mreturn\u001b[39;00m bw_func\u001b[38;5;241m.\u001b[39msearch(\n\u001b[1;32m    395\u001b[0m         search_method\u001b[38;5;241m=\u001b[39msearch_method, criterion\u001b[38;5;241m=\u001b[39mcriterion,\n\u001b[1;32m    396\u001b[0m         bw_min\u001b[38;5;241m=\u001b[39mbw_min, bw_max\u001b[38;5;241m=\u001b[39mbw_max, interval\u001b[38;5;241m=\u001b[39minterval, tol\u001b[38;5;241m=\u001b[39mtol,\n\u001b[1;32m    397\u001b[0m         max_iter\u001b[38;5;241m=\u001b[39mmax_iter, pool\u001b[38;5;241m=\u001b[39m\u001b[38;5;28mself\u001b[39m\u001b[38;5;241m.\u001b[39mpool, verbose\u001b[38;5;241m=\u001b[39m\u001b[38;5;28;01mFalse\u001b[39;00m)\n\u001b[0;32m--> 399\u001b[0m \u001b[38;5;28mself\u001b[39m\u001b[38;5;241m.\u001b[39mbw \u001b[38;5;241m=\u001b[39m \u001b[43mmulti_bw\u001b[49m\u001b[43m(\u001b[49m\u001b[38;5;28;43mself\u001b[39;49m\u001b[38;5;241;43m.\u001b[39;49m\u001b[43minit_multi\u001b[49m\u001b[43m,\u001b[49m\u001b[43m \u001b[49m\u001b[43my\u001b[49m\u001b[43m,\u001b[49m\u001b[43m \u001b[49m\u001b[43mX\u001b[49m\u001b[43m,\u001b[49m\u001b[43m \u001b[49m\u001b[43mn\u001b[49m\u001b[43m,\u001b[49m\u001b[43m \u001b[49m\u001b[43mk\u001b[49m\u001b[43m,\u001b[49m\u001b[43m \u001b[49m\u001b[43mfamily\u001b[49m\u001b[43m,\u001b[49m\u001b[43m \u001b[49m\u001b[38;5;28;43mself\u001b[39;49m\u001b[38;5;241;43m.\u001b[39;49m\u001b[43mtol_multi\u001b[49m\u001b[43m,\u001b[49m\n\u001b[1;32m    400\u001b[0m \u001b[43m                   \u001b[49m\u001b[38;5;28;43mself\u001b[39;49m\u001b[38;5;241;43m.\u001b[39;49m\u001b[43mmax_iter_multi\u001b[49m\u001b[43m,\u001b[49m\u001b[43m \u001b[49m\u001b[38;5;28;43mself\u001b[39;49m\u001b[38;5;241;43m.\u001b[39;49m\u001b[43mrss_score\u001b[49m\u001b[43m,\u001b[49m\u001b[43m \u001b[49m\u001b[43mgwr_func\u001b[49m\u001b[43m,\u001b[49m\n\u001b[1;32m    401\u001b[0m \u001b[43m                   \u001b[49m\u001b[43mbw_func\u001b[49m\u001b[43m,\u001b[49m\u001b[43m \u001b[49m\u001b[43msel_func\u001b[49m\u001b[43m,\u001b[49m\u001b[43m \u001b[49m\u001b[43mmulti_bw_min\u001b[49m\u001b[43m,\u001b[49m\u001b[43m \u001b[49m\u001b[43mmulti_bw_max\u001b[49m\u001b[43m,\u001b[49m\n\u001b[1;32m    402\u001b[0m \u001b[43m                   \u001b[49m\u001b[43mbws_same_times\u001b[49m\u001b[43m,\u001b[49m\u001b[43m \u001b[49m\u001b[43mverbose\u001b[49m\u001b[38;5;241;43m=\u001b[39;49m\u001b[38;5;28;43mself\u001b[39;49m\u001b[38;5;241;43m.\u001b[39;49m\u001b[43mverbose\u001b[49m\u001b[43m)\u001b[49m\n",
      "File \u001b[0;32m/opt/tljh/user/lib/python3.9/site-packages/mgwr/search.py:223\u001b[0m, in \u001b[0;36mmulti_bw\u001b[0;34m(init, y, X, n, k, family, tol, max_iter, rss_score, gwr_func, bw_func, sel_func, multi_bw_min, multi_bw_max, bws_same_times, verbose)\u001b[0m\n\u001b[1;32m    221\u001b[0m     bw \u001b[38;5;241m=\u001b[39m bws[j]\n\u001b[1;32m    222\u001b[0m \u001b[38;5;28;01melse\u001b[39;00m:\n\u001b[0;32m--> 223\u001b[0m     bw \u001b[38;5;241m=\u001b[39m \u001b[43msel_func\u001b[49m\u001b[43m(\u001b[49m\u001b[43mbw_class\u001b[49m\u001b[43m,\u001b[49m\u001b[43m \u001b[49m\u001b[43mmulti_bw_min\u001b[49m\u001b[43m[\u001b[49m\u001b[43mj\u001b[49m\u001b[43m]\u001b[49m\u001b[43m,\u001b[49m\u001b[43m \u001b[49m\u001b[43mmulti_bw_max\u001b[49m\u001b[43m[\u001b[49m\u001b[43mj\u001b[49m\u001b[43m]\u001b[49m\u001b[43m)\u001b[49m\n\u001b[1;32m    224\u001b[0m     gwr_sel_hist\u001b[38;5;241m.\u001b[39mappend(deepcopy(bw_class\u001b[38;5;241m.\u001b[39msel_hist))\n\u001b[1;32m    226\u001b[0m optim_model \u001b[38;5;241m=\u001b[39m gwr_func(temp_y, temp_X, bw)\n",
      "File \u001b[0;32m/opt/tljh/user/lib/python3.9/site-packages/mgwr/sel_bw.py:394\u001b[0m, in \u001b[0;36mSel_BW._mbw.<locals>.sel_func\u001b[0;34m(bw_func, bw_min, bw_max)\u001b[0m\n\u001b[1;32m    393\u001b[0m \u001b[38;5;28;01mdef\u001b[39;00m \u001b[38;5;21msel_func\u001b[39m(bw_func, bw_min\u001b[38;5;241m=\u001b[39m\u001b[38;5;28;01mNone\u001b[39;00m, bw_max\u001b[38;5;241m=\u001b[39m\u001b[38;5;28;01mNone\u001b[39;00m):\n\u001b[0;32m--> 394\u001b[0m     \u001b[38;5;28;01mreturn\u001b[39;00m \u001b[43mbw_func\u001b[49m\u001b[38;5;241;43m.\u001b[39;49m\u001b[43msearch\u001b[49m\u001b[43m(\u001b[49m\n\u001b[1;32m    395\u001b[0m \u001b[43m        \u001b[49m\u001b[43msearch_method\u001b[49m\u001b[38;5;241;43m=\u001b[39;49m\u001b[43msearch_method\u001b[49m\u001b[43m,\u001b[49m\u001b[43m \u001b[49m\u001b[43mcriterion\u001b[49m\u001b[38;5;241;43m=\u001b[39;49m\u001b[43mcriterion\u001b[49m\u001b[43m,\u001b[49m\n\u001b[1;32m    396\u001b[0m \u001b[43m        \u001b[49m\u001b[43mbw_min\u001b[49m\u001b[38;5;241;43m=\u001b[39;49m\u001b[43mbw_min\u001b[49m\u001b[43m,\u001b[49m\u001b[43m \u001b[49m\u001b[43mbw_max\u001b[49m\u001b[38;5;241;43m=\u001b[39;49m\u001b[43mbw_max\u001b[49m\u001b[43m,\u001b[49m\u001b[43m \u001b[49m\u001b[43minterval\u001b[49m\u001b[38;5;241;43m=\u001b[39;49m\u001b[43minterval\u001b[49m\u001b[43m,\u001b[49m\u001b[43m \u001b[49m\u001b[43mtol\u001b[49m\u001b[38;5;241;43m=\u001b[39;49m\u001b[43mtol\u001b[49m\u001b[43m,\u001b[49m\n\u001b[1;32m    397\u001b[0m \u001b[43m        \u001b[49m\u001b[43mmax_iter\u001b[49m\u001b[38;5;241;43m=\u001b[39;49m\u001b[43mmax_iter\u001b[49m\u001b[43m,\u001b[49m\u001b[43m \u001b[49m\u001b[43mpool\u001b[49m\u001b[38;5;241;43m=\u001b[39;49m\u001b[38;5;28;43mself\u001b[39;49m\u001b[38;5;241;43m.\u001b[39;49m\u001b[43mpool\u001b[49m\u001b[43m,\u001b[49m\u001b[43m \u001b[49m\u001b[43mverbose\u001b[49m\u001b[38;5;241;43m=\u001b[39;49m\u001b[38;5;28;43;01mFalse\u001b[39;49;00m\u001b[43m)\u001b[49m\n",
      "File \u001b[0;32m/opt/tljh/user/lib/python3.9/site-packages/mgwr/sel_bw.py:319\u001b[0m, in \u001b[0;36mSel_BW.search\u001b[0;34m(self, search_method, criterion, bw_min, bw_max, interval, tol, max_iter, init_multi, tol_multi, rss_score, max_iter_multi, multi_bw_min, multi_bw_max, bws_same_times, pool, verbose)\u001b[0m\n\u001b[1;32m    316\u001b[0m     \u001b[38;5;28mself\u001b[39m\u001b[38;5;241m.\u001b[39mbw_init \u001b[38;5;241m=\u001b[39m \u001b[38;5;28mself\u001b[39m\u001b[38;5;241m.\u001b[39mbw[\n\u001b[1;32m    317\u001b[0m         \u001b[38;5;241m-\u001b[39m\u001b[38;5;241m1\u001b[39m]  \u001b[38;5;66;03m#scalar, optimal bw from initial gwr model\u001b[39;00m\n\u001b[1;32m    318\u001b[0m \u001b[38;5;28;01melse\u001b[39;00m:\n\u001b[0;32m--> 319\u001b[0m     \u001b[38;5;28;43mself\u001b[39;49m\u001b[38;5;241;43m.\u001b[39;49m\u001b[43m_bw\u001b[49m\u001b[43m(\u001b[49m\u001b[43m)\u001b[49m\n\u001b[1;32m    320\u001b[0m     \u001b[38;5;28mself\u001b[39m\u001b[38;5;241m.\u001b[39msel_hist \u001b[38;5;241m=\u001b[39m \u001b[38;5;28mself\u001b[39m\u001b[38;5;241m.\u001b[39mbw[\u001b[38;5;241m-\u001b[39m\u001b[38;5;241m1\u001b[39m]\n\u001b[1;32m    322\u001b[0m \u001b[38;5;28mself\u001b[39m\u001b[38;5;241m.\u001b[39mpool \u001b[38;5;241m=\u001b[39m \u001b[38;5;28;01mNone\u001b[39;00m\n",
      "File \u001b[0;32m/opt/tljh/user/lib/python3.9/site-packages/mgwr/sel_bw.py:337\u001b[0m, in \u001b[0;36mSel_BW._bw\u001b[0;34m(self)\u001b[0m\n\u001b[1;32m    334\u001b[0m     a, c \u001b[38;5;241m=\u001b[39m \u001b[38;5;28mself\u001b[39m\u001b[38;5;241m.\u001b[39m_init_section(\u001b[38;5;28mself\u001b[39m\u001b[38;5;241m.\u001b[39mX_glob, \u001b[38;5;28mself\u001b[39m\u001b[38;5;241m.\u001b[39mX_loc, \u001b[38;5;28mself\u001b[39m\u001b[38;5;241m.\u001b[39mcoords,\n\u001b[1;32m    335\u001b[0m                               \u001b[38;5;28mself\u001b[39m\u001b[38;5;241m.\u001b[39mconstant)\n\u001b[1;32m    336\u001b[0m     delta \u001b[38;5;241m=\u001b[39m \u001b[38;5;241m0.38197\u001b[39m  \u001b[38;5;66;03m#1 - (np.sqrt(5.0)-1.0)/2.0\u001b[39;00m\n\u001b[0;32m--> 337\u001b[0m     \u001b[38;5;28mself\u001b[39m\u001b[38;5;241m.\u001b[39mbw \u001b[38;5;241m=\u001b[39m \u001b[43mgolden_section\u001b[49m\u001b[43m(\u001b[49m\u001b[43ma\u001b[49m\u001b[43m,\u001b[49m\u001b[43m \u001b[49m\u001b[43mc\u001b[49m\u001b[43m,\u001b[49m\u001b[43m \u001b[49m\u001b[43mdelta\u001b[49m\u001b[43m,\u001b[49m\u001b[43m \u001b[49m\u001b[43mgwr_func\u001b[49m\u001b[43m,\u001b[49m\u001b[43m \u001b[49m\u001b[38;5;28;43mself\u001b[39;49m\u001b[38;5;241;43m.\u001b[39;49m\u001b[43mtol\u001b[49m\u001b[43m,\u001b[49m\n\u001b[1;32m    338\u001b[0m \u001b[43m                             \u001b[49m\u001b[38;5;28;43mself\u001b[39;49m\u001b[38;5;241;43m.\u001b[39;49m\u001b[43mmax_iter\u001b[49m\u001b[43m,\u001b[49m\u001b[43m \u001b[49m\u001b[38;5;28;43mself\u001b[39;49m\u001b[38;5;241;43m.\u001b[39;49m\u001b[43mint_score\u001b[49m\u001b[43m,\u001b[49m\n\u001b[1;32m    339\u001b[0m \u001b[43m                             \u001b[49m\u001b[38;5;28;43mself\u001b[39;49m\u001b[38;5;241;43m.\u001b[39;49m\u001b[43mverbose\u001b[49m\u001b[43m)\u001b[49m\n\u001b[1;32m    340\u001b[0m \u001b[38;5;28;01melif\u001b[39;00m \u001b[38;5;28mself\u001b[39m\u001b[38;5;241m.\u001b[39msearch_method \u001b[38;5;241m==\u001b[39m \u001b[38;5;124m'\u001b[39m\u001b[38;5;124minterval\u001b[39m\u001b[38;5;124m'\u001b[39m:\n\u001b[1;32m    341\u001b[0m     \u001b[38;5;28mself\u001b[39m\u001b[38;5;241m.\u001b[39mbw \u001b[38;5;241m=\u001b[39m equal_interval(\u001b[38;5;28mself\u001b[39m\u001b[38;5;241m.\u001b[39mbw_min, \u001b[38;5;28mself\u001b[39m\u001b[38;5;241m.\u001b[39mbw_max, \u001b[38;5;28mself\u001b[39m\u001b[38;5;241m.\u001b[39minterval,\n\u001b[1;32m    342\u001b[0m                              gwr_func, \u001b[38;5;28mself\u001b[39m\u001b[38;5;241m.\u001b[39mint_score, \u001b[38;5;28mself\u001b[39m\u001b[38;5;241m.\u001b[39mverbose)\n",
      "File \u001b[0;32m/opt/tljh/user/lib/python3.9/site-packages/mgwr/search.py:62\u001b[0m, in \u001b[0;36mgolden_section\u001b[0;34m(a, c, delta, function, tol, max_iter, int_score, verbose)\u001b[0m\n\u001b[1;32m     60\u001b[0m     score_b \u001b[38;5;241m=\u001b[39m \u001b[38;5;28mdict\u001b[39m[b]\n\u001b[1;32m     61\u001b[0m \u001b[38;5;28;01melse\u001b[39;00m:\n\u001b[0;32m---> 62\u001b[0m     score_b \u001b[38;5;241m=\u001b[39m \u001b[43mfunction\u001b[49m\u001b[43m(\u001b[49m\u001b[43mb\u001b[49m\u001b[43m)\u001b[49m\n\u001b[1;32m     63\u001b[0m     \u001b[38;5;28mdict\u001b[39m[b] \u001b[38;5;241m=\u001b[39m score_b\n\u001b[1;32m     64\u001b[0m     \u001b[38;5;28;01mif\u001b[39;00m verbose:\n",
      "File \u001b[0;32m/opt/tljh/user/lib/python3.9/site-packages/mgwr/sel_bw.py:326\u001b[0m, in \u001b[0;36mSel_BW._bw.<locals>.<lambda>\u001b[0;34m(bw)\u001b[0m\n\u001b[1;32m    325\u001b[0m \u001b[38;5;28;01mdef\u001b[39;00m \u001b[38;5;21m_bw\u001b[39m(\u001b[38;5;28mself\u001b[39m):\n\u001b[0;32m--> 326\u001b[0m     gwr_func \u001b[38;5;241m=\u001b[39m \u001b[38;5;28;01mlambda\u001b[39;00m bw: getDiag[\u001b[38;5;28mself\u001b[39m\u001b[38;5;241m.\u001b[39mcriterion](\u001b[43mGWR\u001b[49m\u001b[43m(\u001b[49m\n\u001b[1;32m    327\u001b[0m \u001b[43m        \u001b[49m\u001b[38;5;28;43mself\u001b[39;49m\u001b[38;5;241;43m.\u001b[39;49m\u001b[43mcoords\u001b[49m\u001b[43m,\u001b[49m\u001b[43m \u001b[49m\u001b[38;5;28;43mself\u001b[39;49m\u001b[38;5;241;43m.\u001b[39;49m\u001b[43my\u001b[49m\u001b[43m,\u001b[49m\u001b[43m \u001b[49m\u001b[38;5;28;43mself\u001b[39;49m\u001b[38;5;241;43m.\u001b[39;49m\u001b[43mX_loc\u001b[49m\u001b[43m,\u001b[49m\u001b[43m \u001b[49m\u001b[43mbw\u001b[49m\u001b[43m,\u001b[49m\u001b[43m \u001b[49m\u001b[43mfamily\u001b[49m\u001b[38;5;241;43m=\u001b[39;49m\u001b[38;5;28;43mself\u001b[39;49m\u001b[38;5;241;43m.\u001b[39;49m\u001b[43mfamily\u001b[49m\u001b[43m,\u001b[49m\u001b[43m \u001b[49m\u001b[43mkernel\u001b[49m\u001b[38;5;241;43m=\u001b[39;49m\n\u001b[1;32m    328\u001b[0m \u001b[43m        \u001b[49m\u001b[38;5;28;43mself\u001b[39;49m\u001b[38;5;241;43m.\u001b[39;49m\u001b[43mkernel\u001b[49m\u001b[43m,\u001b[49m\u001b[43m \u001b[49m\u001b[43mfixed\u001b[49m\u001b[38;5;241;43m=\u001b[39;49m\u001b[38;5;28;43mself\u001b[39;49m\u001b[38;5;241;43m.\u001b[39;49m\u001b[43mfixed\u001b[49m\u001b[43m,\u001b[49m\u001b[43m \u001b[49m\u001b[43mconstant\u001b[49m\u001b[38;5;241;43m=\u001b[39;49m\u001b[38;5;28;43mself\u001b[39;49m\u001b[38;5;241;43m.\u001b[39;49m\u001b[43mconstant\u001b[49m\u001b[43m,\u001b[49m\u001b[43m \u001b[49m\u001b[43moffset\u001b[49m\u001b[38;5;241;43m=\u001b[39;49m\u001b[38;5;28;43mself\u001b[39;49m\u001b[38;5;241;43m.\u001b[39;49m\n\u001b[1;32m    329\u001b[0m \u001b[43m        \u001b[49m\u001b[43moffset\u001b[49m\u001b[43m,\u001b[49m\u001b[43m \u001b[49m\u001b[43mspherical\u001b[49m\u001b[38;5;241;43m=\u001b[39;49m\u001b[38;5;28;43mself\u001b[39;49m\u001b[38;5;241;43m.\u001b[39;49m\u001b[43mspherical\u001b[49m\u001b[43m)\u001b[49m\u001b[38;5;241;43m.\u001b[39;49m\u001b[43mfit\u001b[49m\u001b[43m(\u001b[49m\u001b[43mlite\u001b[49m\u001b[38;5;241;43m=\u001b[39;49m\u001b[38;5;28;43;01mTrue\u001b[39;49;00m\u001b[43m,\u001b[49m\u001b[43m \u001b[49m\u001b[43mpool\u001b[49m\u001b[38;5;241;43m=\u001b[39;49m\u001b[38;5;28;43mself\u001b[39;49m\u001b[38;5;241;43m.\u001b[39;49m\u001b[43mpool\u001b[49m\u001b[43m)\u001b[49m)\n\u001b[1;32m    331\u001b[0m     \u001b[38;5;28mself\u001b[39m\u001b[38;5;241m.\u001b[39m_optimized_function \u001b[38;5;241m=\u001b[39m gwr_func\n\u001b[1;32m    333\u001b[0m     \u001b[38;5;28;01mif\u001b[39;00m \u001b[38;5;28mself\u001b[39m\u001b[38;5;241m.\u001b[39msearch_method \u001b[38;5;241m==\u001b[39m \u001b[38;5;124m'\u001b[39m\u001b[38;5;124mgolden_section\u001b[39m\u001b[38;5;124m'\u001b[39m:\n",
      "File \u001b[0;32m/opt/tljh/user/lib/python3.9/site-packages/mgwr/gwr.py:335\u001b[0m, in \u001b[0;36mGWR.fit\u001b[0;34m(self, ini_params, tol, max_iter, solve, lite, pool)\u001b[0m\n\u001b[1;32m    332\u001b[0m \u001b[38;5;28;01melse\u001b[39;00m:\n\u001b[1;32m    333\u001b[0m     rslt \u001b[38;5;241m=\u001b[39m \u001b[38;5;28mmap\u001b[39m(\u001b[38;5;28mself\u001b[39m\u001b[38;5;241m.\u001b[39m_local_fit, \u001b[38;5;28mrange\u001b[39m(m))  \u001b[38;5;66;03m#sequential\u001b[39;00m\n\u001b[0;32m--> 335\u001b[0m rslt_list \u001b[38;5;241m=\u001b[39m \u001b[38;5;28mlist\u001b[39m(\u001b[38;5;28;43mzip\u001b[39;49m\u001b[43m(\u001b[49m\u001b[38;5;241;43m*\u001b[39;49m\u001b[43mrslt\u001b[49m\u001b[43m)\u001b[49m)\n\u001b[1;32m    336\u001b[0m influ \u001b[38;5;241m=\u001b[39m np\u001b[38;5;241m.\u001b[39marray(rslt_list[\u001b[38;5;241m0\u001b[39m])\u001b[38;5;241m.\u001b[39mreshape(\u001b[38;5;241m-\u001b[39m\u001b[38;5;241m1\u001b[39m, \u001b[38;5;241m1\u001b[39m)\n\u001b[1;32m    337\u001b[0m resid \u001b[38;5;241m=\u001b[39m np\u001b[38;5;241m.\u001b[39marray(rslt_list[\u001b[38;5;241m1\u001b[39m])\u001b[38;5;241m.\u001b[39mreshape(\u001b[38;5;241m-\u001b[39m\u001b[38;5;241m1\u001b[39m, \u001b[38;5;241m1\u001b[39m)\n",
      "File \u001b[0;32m/opt/tljh/user/lib/python3.9/site-packages/mgwr/gwr.py:251\u001b[0m, in \u001b[0;36mGWR._local_fit\u001b[0;34m(self, i)\u001b[0m\n\u001b[1;32m    248\u001b[0m wi \u001b[38;5;241m=\u001b[39m \u001b[38;5;28mself\u001b[39m\u001b[38;5;241m.\u001b[39m_build_wi(i, \u001b[38;5;28mself\u001b[39m\u001b[38;5;241m.\u001b[39mbw)\u001b[38;5;241m.\u001b[39mreshape(\u001b[38;5;241m-\u001b[39m\u001b[38;5;241m1\u001b[39m, \u001b[38;5;241m1\u001b[39m)  \u001b[38;5;66;03m#local spatial weights\u001b[39;00m\n\u001b[1;32m    250\u001b[0m \u001b[38;5;28;01mif\u001b[39;00m \u001b[38;5;28misinstance\u001b[39m(\u001b[38;5;28mself\u001b[39m\u001b[38;5;241m.\u001b[39mfamily, Gaussian):\n\u001b[0;32m--> 251\u001b[0m     betas, inv_xtx_xt \u001b[38;5;241m=\u001b[39m \u001b[43m_compute_betas_gwr\u001b[49m\u001b[43m(\u001b[49m\u001b[38;5;28;43mself\u001b[39;49m\u001b[38;5;241;43m.\u001b[39;49m\u001b[43my\u001b[49m\u001b[43m,\u001b[49m\u001b[43m \u001b[49m\u001b[38;5;28;43mself\u001b[39;49m\u001b[38;5;241;43m.\u001b[39;49m\u001b[43mX\u001b[49m\u001b[43m,\u001b[49m\u001b[43m \u001b[49m\u001b[43mwi\u001b[49m\u001b[43m)\u001b[49m\n\u001b[1;32m    252\u001b[0m     predy \u001b[38;5;241m=\u001b[39m np\u001b[38;5;241m.\u001b[39mdot(\u001b[38;5;28mself\u001b[39m\u001b[38;5;241m.\u001b[39mX[i], betas)[\u001b[38;5;241m0\u001b[39m]\n\u001b[1;32m    253\u001b[0m     resid \u001b[38;5;241m=\u001b[39m \u001b[38;5;28mself\u001b[39m\u001b[38;5;241m.\u001b[39my[i] \u001b[38;5;241m-\u001b[39m predy\n",
      "File \u001b[0;32m/opt/tljh/user/lib/python3.9/site-packages/spglm/iwls.py:37\u001b[0m, in \u001b[0;36m_compute_betas_gwr\u001b[0;34m(y, x, wi)\u001b[0m\n\u001b[1;32m     35\u001b[0m xT \u001b[38;5;241m=\u001b[39m (x \u001b[38;5;241m*\u001b[39m wi)\u001b[38;5;241m.\u001b[39mT\n\u001b[1;32m     36\u001b[0m xtx \u001b[38;5;241m=\u001b[39m np\u001b[38;5;241m.\u001b[39mdot(xT, x)\n\u001b[0;32m---> 37\u001b[0m xtx_inv_xt \u001b[38;5;241m=\u001b[39m \u001b[43mlinalg\u001b[49m\u001b[38;5;241;43m.\u001b[39;49m\u001b[43msolve\u001b[49m\u001b[43m(\u001b[49m\u001b[43mxtx\u001b[49m\u001b[43m,\u001b[49m\u001b[43m \u001b[49m\u001b[43mxT\u001b[49m\u001b[43m)\u001b[49m\n\u001b[1;32m     38\u001b[0m betas \u001b[38;5;241m=\u001b[39m np\u001b[38;5;241m.\u001b[39mdot(xtx_inv_xt, y)\n\u001b[1;32m     39\u001b[0m \u001b[38;5;28;01mreturn\u001b[39;00m betas, xtx_inv_xt\n",
      "File \u001b[0;32m/opt/tljh/user/lib/python3.9/site-packages/scipy/linalg/_basic.py:222\u001b[0m, in \u001b[0;36msolve\u001b[0;34m(a, b, sym_pos, lower, overwrite_a, overwrite_b, check_finite, assume_a, transposed)\u001b[0m\n\u001b[1;32m    219\u001b[0m \u001b[38;5;28;01mif\u001b[39;00m assume_a \u001b[38;5;241m==\u001b[39m \u001b[38;5;124m'\u001b[39m\u001b[38;5;124mgen\u001b[39m\u001b[38;5;124m'\u001b[39m:\n\u001b[1;32m    220\u001b[0m     gecon, getrf, getrs \u001b[38;5;241m=\u001b[39m get_lapack_funcs((\u001b[38;5;124m'\u001b[39m\u001b[38;5;124mgecon\u001b[39m\u001b[38;5;124m'\u001b[39m, \u001b[38;5;124m'\u001b[39m\u001b[38;5;124mgetrf\u001b[39m\u001b[38;5;124m'\u001b[39m, \u001b[38;5;124m'\u001b[39m\u001b[38;5;124mgetrs\u001b[39m\u001b[38;5;124m'\u001b[39m),\n\u001b[1;32m    221\u001b[0m                                            (a1, b1))\n\u001b[0;32m--> 222\u001b[0m     lu, ipvt, info \u001b[38;5;241m=\u001b[39m \u001b[43mgetrf\u001b[49m\u001b[43m(\u001b[49m\u001b[43ma1\u001b[49m\u001b[43m,\u001b[49m\u001b[43m \u001b[49m\u001b[43moverwrite_a\u001b[49m\u001b[38;5;241;43m=\u001b[39;49m\u001b[43moverwrite_a\u001b[49m\u001b[43m)\u001b[49m\n\u001b[1;32m    223\u001b[0m     _solve_check(n, info)\n\u001b[1;32m    224\u001b[0m     x, info \u001b[38;5;241m=\u001b[39m getrs(lu, ipvt, b1,\n\u001b[1;32m    225\u001b[0m                     trans\u001b[38;5;241m=\u001b[39mtrans, overwrite_b\u001b[38;5;241m=\u001b[39moverwrite_b)\n",
      "\u001b[0;31mKeyboardInterrupt\u001b[0m: "
     ]
    }
   ],
   "source": [
    "#Run mgwr model\n",
    "mgwr_selector = Sel_BW(coords, Zy, ZX, multi=True)\n",
    "mgwr_bw = mgwr_selector.search()\n",
    "mgwr_bw"
   ]
  },
  {
   "cell_type": "code",
   "execution_count": null,
   "id": "9ee0501f-ae2c-4b21-80e3-03915ad32ecf",
   "metadata": {
    "tags": []
   },
   "outputs": [],
   "source": [
    "#View results of MGWR model\n",
    "mgwr_results = MGWR(coords, Zy, ZX, mgwr_selector).fit()\n",
    "mgwr_results.summary()"
   ]
  }
 ],
 "metadata": {
  "kernelspec": {
   "display_name": "Python 3 (ipykernel)",
   "language": "python",
   "name": "python3"
  },
  "language_info": {
   "codemirror_mode": {
    "name": "ipython",
    "version": 3
   },
   "file_extension": ".py",
   "mimetype": "text/x-python",
   "name": "python",
   "nbconvert_exporter": "python",
   "pygments_lexer": "ipython3",
   "version": "3.9.7"
  }
 },
 "nbformat": 4,
 "nbformat_minor": 5
}
